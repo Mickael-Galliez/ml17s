{
 "cells": [
  {
   "cell_type": "markdown",
   "metadata": {
    "slideshow": {
     "slide_type": "slide"
    }
   },
   "source": [
    "# CSAL4243: Introduction to Machine Learning\n",
    "Muhammad Mudassir Khan (mudasssir.khan@ucp.edu.pk)"
   ]
  },
  {
   "cell_type": "markdown",
   "metadata": {
    "slideshow": {
     "slide_type": "slide"
    }
   },
   "source": [
    "# Lecture 4: Linear Regression and Gradient Descent Example"
   ]
  },
  {
   "cell_type": "markdown",
   "metadata": {
    "slideshow": {
     "slide_type": "fragment"
    }
   },
   "source": [
    "### Overview"
   ]
  },
  {
   "cell_type": "markdown",
   "metadata": {
    "collapsed": true,
    "slideshow": {
     "slide_type": "fragment"
    }
   },
   "source": [
    "- [Machine Learning pipeline](#Machine-Learning-pipeline)\n",
    "- [Linear Regression with one variable](#Linear-Regression-with-one-variable)\n",
    "    - [Model Representation](#Model-Representation)\n",
    "    - [Cost Function](#Cost-Function)\n",
    "- [Gradient Descent](#Gradient-Descent)\n",
    "- [Linear Regression Example](#Linear-Regression-Example)\n",
    "    - [Read data](#Read-data)\n",
    "    - [Plot data](#Plot-data)\n",
    "    - [Find a line that best fit the data](#Find-a-line-that-best-fit-the-data)\n",
    "    - [Lets assume $\\theta_0 = 0$ and  $\\theta_1=0$](#Lets assume $\\theta_0 = 0$ and  $\\theta_1=0$)\n",
    "    - [Plot it](#Plot-it)\n",
    "    - [$\\theta_1$ vs Cost](#$\\theta_1$ vs Cost)\n",
    "    - [Lets do it with Gradient Descent now](#Lets-do-it-with-Gradient-Descent-now)\n",
    "    - [Plot Convergence](#Plot-Convergence)\n",
    "    - [Predict output using trained model](#Predict-output-using-trained-model)\n",
    "    - [Plot Results](#Plot-Results)\n",
    "- [Resources](#Resources)\n",
    "- [Credits](#Credits)"
   ]
  },
  {
   "cell_type": "markdown",
   "metadata": {},
   "source": [
    "<br>\n",
    "<br>"
   ]
  },
  {
   "cell_type": "markdown",
   "metadata": {
    "slideshow": {
     "slide_type": "slide"
    }
   },
   "source": [
    "# Machine Learning pipeline"
   ]
  },
  {
   "cell_type": "markdown",
   "metadata": {
    "slideshow": {
     "slide_type": "fragment"
    }
   },
   "source": [
    "<img style=\"float: left;\" src=\"images/model.png\">"
   ]
  },
  {
   "cell_type": "markdown",
   "metadata": {
    "slideshow": {
     "slide_type": "fragment"
    }
   },
   "source": [
    "- x is called input variables or input features.\n",
    "\n",
    "- y is called output or target variable. Also sometimes known as label.\n",
    "\n",
    "- h is called hypothesis or model. \n",
    "\n",
    "- pair (x<sup>(i)</sup>,y<sup>(i)</sup>) is called a sample or training example\n",
    "\n",
    "- dataset of all training examples is called training set.\n",
    "\n",
    "- m is the number of samples in a dataset.\n",
    "\n",
    "- n is the number of features in a dataset excluding label."
   ]
  },
  {
   "cell_type": "markdown",
   "metadata": {
    "slideshow": {
     "slide_type": "fragment"
    }
   },
   "source": [
    "<img style=\"float: left;\" src=\"images/02_02.png\", width=400> "
   ]
  },
  {
   "cell_type": "markdown",
   "metadata": {},
   "source": [
    "<br>\n",
    "<br>"
   ]
  },
  {
   "cell_type": "markdown",
   "metadata": {
    "slideshow": {
     "slide_type": "slide"
    }
   },
   "source": [
    "# Linear Regression with one variable"
   ]
  },
  {
   "cell_type": "markdown",
   "metadata": {
    "slideshow": {
     "slide_type": "fragment"
    }
   },
   "source": [
    "## Model Representation\n",
    "\n",
    "- Model is represented by h<sub>$\\theta$</sub>(x) or simply h(x)\n",
    "\n",
    "- For Linear regression with one input variable h(x) =  $\\theta$<sub>0</sub> + $\\theta$<sub>1</sub>x\n",
    "\n",
    "<img style=\"float: left;\" src=\"images/02_01.png\">"
   ]
  },
  {
   "cell_type": "markdown",
   "metadata": {
    "slideshow": {
     "slide_type": "fragment"
    }
   },
   "source": [
    "- $\\theta$<sub>0</sub> and $\\theta$<sub>1</sub> are called weights or parameters.\n",
    "- Need to find $\\theta$<sub>0</sub> and $\\theta$<sub>1</sub> that maximizes the performance of model."
   ]
  },
  {
   "cell_type": "markdown",
   "metadata": {},
   "source": [
    "<br>"
   ]
  },
  {
   "cell_type": "markdown",
   "metadata": {},
   "source": [
    "<br>\n",
    "<br>"
   ]
  },
  {
   "cell_type": "markdown",
   "metadata": {
    "slideshow": {
     "slide_type": "slide"
    }
   },
   "source": [
    "## Cost Function"
   ]
  },
  {
   "cell_type": "markdown",
   "metadata": {
    "slideshow": {
     "slide_type": "fragment"
    }
   },
   "source": [
    "Let $\\hat{y}$ = h(x) =  $\\theta$<sub>0</sub> + $\\theta$<sub>1</sub>x\n",
    "\n",
    "Error in single sample (x,y) = $\\hat{y}$ - y = h(x) - y \n",
    "\n",
    "Cummulative error of all m samples = $\\sum_{i=1}^{m} (h(x^i) - y^i)^2$\n",
    "\n",
    "Finally mean squared error or cost function = J($\\theta$) = $\\frac{1}{2m}\\sum_{i=1}^{m} (h(x^i) - y^i)^2$\n",
    "\n",
    "<img style=\"float: left;\" src=\"images/03_01.png\", width=300> <img style=\"float: right;\" src=\"images/03_02.png\", width=300>"
   ]
  },
  {
   "cell_type": "markdown",
   "metadata": {},
   "source": [
    "<br>\n",
    "<br>"
   ]
  },
  {
   "cell_type": "markdown",
   "metadata": {},
   "source": [
    "# Gradient Descent"
   ]
  },
  {
   "cell_type": "markdown",
   "metadata": {},
   "source": [
    "Gradient descent equation:\n",
    "\n",
    "$\\theta_j := \\theta_j - \\alpha \\frac{\\partial}{\\partial \\theta_j} J(\\theta_0, \\theta_1)$\n",
    "\n",
    "\n",
    "Linear regression Cost function:\n",
    "\n",
    "J($\\theta$) = $\\frac{1}{2m}\\sum_{i=1}^{m} (h(x^i) - y^i)^2$"
   ]
  },
  {
   "cell_type": "markdown",
   "metadata": {},
   "source": [
    "<br>\n",
    "Replacing J($\\theta$) in gradient descent equation:\n",
    "\n",
    "\\begin{align*} \\text{repeat until convergence: } \\lbrace & \\newline \\theta_0 := & \\theta_0 - \\alpha \\frac{1}{m} \\sum\\limits_{i=1}^{m}(h_\\theta(x_{i}) - y_{i}) \\newline \\theta_1 := & \\theta_1 - \\alpha \\frac{1}{m} \\sum\\limits_{i=1}^{m}\\left((h_\\theta(x_{i}) - y_{i}) x_{i}\\right) \\newline \\rbrace& \\end{align*}\n",
    "\n",
    "---"
   ]
  },
  {
   "cell_type": "markdown",
   "metadata": {},
   "source": [
    "<br>\n",
    "<img style=\"float: left;\" src=\"images/03_04.gif\">"
   ]
  },
  {
   "cell_type": "markdown",
   "metadata": {},
   "source": [
    "<br>\n",
    "<br>"
   ]
  },
  {
   "cell_type": "markdown",
   "metadata": {
    "slideshow": {
     "slide_type": "slide"
    }
   },
   "source": [
    "# Linear Regression Example"
   ]
  },
  {
   "cell_type": "markdown",
   "metadata": {},
   "source": [
    "| x       | y          | \n",
    "| ------------- |:-------------:| \n",
    "| 1      | 0.8 | \n",
    "| 2      | 1.6      |   \n",
    "| 3 | 2.4      | \n",
    "| 4 | 3.2      | "
   ]
  },
  {
   "cell_type": "markdown",
   "metadata": {
    "slideshow": {
     "slide_type": "subslide"
    }
   },
   "source": [
    "## Read data"
   ]
  },
  {
   "cell_type": "code",
   "execution_count": 31,
   "metadata": {
    "collapsed": false,
    "scrolled": true,
    "slideshow": {
     "slide_type": "fragment"
    }
   },
   "outputs": [],
   "source": [
    "%matplotlib inline\n",
    "import pandas as pd\n",
    "import numpy as np\n",
    "from sklearn import linear_model\n",
    "import matplotlib.pyplot as plt\n",
    "\n",
    "# read data in pandas frame\n",
    "dataframe = pd.read_csv('datasets/example1.csv', encoding='utf-8')\n",
    "\n",
    "# assign x and y\n",
    "X = np.array(dataframe[['x']])\n",
    "y = np.array(dataframe[['y']])\n",
    "\n",
    "m = y.size # number of training examples"
   ]
  },
  {
   "cell_type": "code",
   "execution_count": 32,
   "metadata": {
    "collapsed": false,
    "slideshow": {
     "slide_type": "fragment"
    }
   },
   "outputs": [
    {
     "data": {
      "text/html": [
       "<div>\n",
       "<table border=\"1\" class=\"dataframe\">\n",
       "  <thead>\n",
       "    <tr style=\"text-align: right;\">\n",
       "      <th></th>\n",
       "      <th>x</th>\n",
       "      <th>y</th>\n",
       "    </tr>\n",
       "  </thead>\n",
       "  <tbody>\n",
       "    <tr>\n",
       "      <th>0</th>\n",
       "      <td>1</td>\n",
       "      <td>0.8</td>\n",
       "    </tr>\n",
       "    <tr>\n",
       "      <th>1</th>\n",
       "      <td>2</td>\n",
       "      <td>1.6</td>\n",
       "    </tr>\n",
       "    <tr>\n",
       "      <th>2</th>\n",
       "      <td>3</td>\n",
       "      <td>2.4</td>\n",
       "    </tr>\n",
       "    <tr>\n",
       "      <th>3</th>\n",
       "      <td>4</td>\n",
       "      <td>3.2</td>\n",
       "    </tr>\n",
       "  </tbody>\n",
       "</table>\n",
       "</div>"
      ],
      "text/plain": [
       "   x    y\n",
       "0  1  0.8\n",
       "1  2  1.6\n",
       "2  3  2.4\n",
       "3  4  3.2"
      ]
     },
     "execution_count": 32,
     "metadata": {},
     "output_type": "execute_result"
    }
   ],
   "source": [
    "# check data by printing first few rows\n",
    "dataframe.head()"
   ]
  },
  {
   "cell_type": "markdown",
   "metadata": {
    "slideshow": {
     "slide_type": "subslide"
    }
   },
   "source": [
    "## Plot data"
   ]
  },
  {
   "cell_type": "code",
   "execution_count": 33,
   "metadata": {
    "collapsed": false,
    "slideshow": {
     "slide_type": "fragment"
    }
   },
   "outputs": [
    {
     "data": {
      "image/png": "[encoded data removed]",
      "text/plain": [
       "<matplotlib.figure.Figure at 0x7f280376fbe0>"
      ]
     },
     "metadata": {},
     "output_type": "display_data"
    }
   ],
   "source": [
    "#visualize results\n",
    "plt.scatter(X, y)\n",
    "plt.title(\"Dataset\")\n",
    "plt.xlabel(\"x\")\n",
    "plt.ylabel(\"y\")\n",
    "plt.show()"
   ]
  },
  {
   "cell_type": "markdown",
   "metadata": {},
   "source": [
    "## Find a line that best fit the data"
   ]
  },
  {
   "cell_type": "code",
   "execution_count": 34,
   "metadata": {
    "collapsed": false
   },
   "outputs": [
    {
     "data": {
      "image/png": "[encoded data removed]",
      "text/plain": [
       "<matplotlib.figure.Figure at 0x7f280364d400>"
      ]
     },
     "metadata": {},
     "output_type": "display_data"
    }
   ],
   "source": [
    "#best fit line\n",
    "\n",
    "tmpx = np.array([0, 1, 2, 3, 4])\n",
    "y1 = 0.2*tmpx\n",
    "y2 = 0.7*tmpx\n",
    "y3 = 1.5*tmpx\n",
    "\n",
    "\n",
    "plt.scatter(X, y)\n",
    "plt.plot(tmpx,y1)\n",
    "plt.plot(tmpx,y2)\n",
    "plt.plot(tmpx,y3)\n",
    "plt.title(\"Best fit line\")\n",
    "plt.xlabel(\"x\")\n",
    "plt.ylabel(\"y\")\n",
    "plt.show()"
   ]
  },
  {
   "cell_type": "markdown",
   "metadata": {},
   "source": [
    "## Lets assume $\\theta_0 = 0$ and  $\\theta_1=0$\n",
    "\n",
    "Model h(x) = $\\theta_0$ + $\\theta_1$x = 0\n",
    "\n",
    "Cost function J($\\theta$) = $\\frac{1}{2m}\\sum_{i=1}^{m} (h(x^i) - y^i)^2$ = $\\frac{1}{2m}\\sum_{i=1}^{m} (0 - y^i)^2$"
   ]
  },
  {
   "cell_type": "code",
   "execution_count": 35,
   "metadata": {
    "collapsed": false
   },
   "outputs": [
    {
     "name": "stdout",
     "output_type": "stream",
     "text": [
      "2.4\n"
     ]
    }
   ],
   "source": [
    "theta0 = 0\n",
    "theta1 = 0\n",
    "\n",
    "cost = 0\n",
    "for i in range(m):\n",
    "        hx = theta1*X[i,0] + theta0\n",
    "        cost += pow((hx - y[i,0]),2)\n",
    "\n",
    "cost = cost/(2*m)             \n",
    "print (cost)"
   ]
  },
  {
   "cell_type": "markdown",
   "metadata": {},
   "source": [
    "## plot it"
   ]
  },
  {
   "cell_type": "code",
   "execution_count": 36,
   "metadata": {
    "collapsed": false
   },
   "outputs": [
    {
     "data": {
      "image/png": "[encoded data removed]",
      "text/plain": [
       "<matplotlib.figure.Figure at 0x7f280381d8d0>"
      ]
     },
     "metadata": {},
     "output_type": "display_data"
    }
   ],
   "source": [
    "# predict using model\n",
    "y_pred = theta1*X + theta0\n",
    "\n",
    "# plot\n",
    "plt.scatter(X, y)\n",
    "plt.plot(X, y_pred)\n",
    "plt.title(\"Line for theta1 = 0\")\n",
    "plt.xlabel(\"x\")\n",
    "plt.ylabel(\"y\")\n",
    "plt.show()"
   ]
  },
  {
   "cell_type": "markdown",
   "metadata": {},
   "source": [
    "## Plot $\\theta1$ vs Cost "
   ]
  },
  {
   "cell_type": "code",
   "execution_count": 37,
   "metadata": {
    "collapsed": false
   },
   "outputs": [
    {
     "data": {
      "image/png": "[encoded data removed]",
      "text/plain": [
       "<matplotlib.figure.Figure at 0x7f28036cc3c8>"
      ]
     },
     "metadata": {},
     "output_type": "display_data"
    }
   ],
   "source": [
    "# save theta1 and cost in a vector\n",
    "cost_log = []\n",
    "theta1_log = []\n",
    "\n",
    "cost_log.append(cost)\n",
    "theta1_log.append(theta1)\n",
    "\n",
    "# plot\n",
    "plt.scatter(theta1_log, cost_log)\n",
    "plt.title(\"Theta1 vs Cost\")\n",
    "plt.xlabel(\"Theta1\")\n",
    "plt.ylabel(\"Cost\")\n",
    "plt.show()"
   ]
  },
  {
   "cell_type": "markdown",
   "metadata": {
    "slideshow": {
     "slide_type": "slide"
    }
   },
   "source": [
    "## Lets assume $\\theta_0 = 0$ and  $\\theta_1=1$\n",
    "\n",
    "Model h(x) = $\\theta_0$ + $\\theta_1$x = x\n",
    "\n",
    "Cost function J($\\theta$) = $\\frac{1}{2m}\\sum_{i=1}^{m} (h(x^i) - y^i)^2$ = $\\frac{1}{2m}\\sum_{i=1}^{m} (x^i - y^i)^2$"
   ]
  },
  {
   "cell_type": "code",
   "execution_count": 38,
   "metadata": {
    "collapsed": false,
    "slideshow": {
     "slide_type": "fragment"
    }
   },
   "outputs": [
    {
     "name": "stdout",
     "output_type": "stream",
     "text": [
      "0.15\n"
     ]
    }
   ],
   "source": [
    "theta0 = 0\n",
    "theta1 = 1\n",
    "\n",
    "cost = 0\n",
    "for i in range(m):\n",
    "        hx = theta1*X[i,0] + theta0\n",
    "        cost += pow((hx - y[i,0]),2)\n",
    "\n",
    "cost = cost/(2*m)             \n",
    "print (cost)"
   ]
  },
  {
   "cell_type": "markdown",
   "metadata": {},
   "source": [
    "## plot it"
   ]
  },
  {
   "cell_type": "code",
   "execution_count": 39,
   "metadata": {
    "collapsed": false
   },
   "outputs": [
    {
     "data": {
      "image/png": "[encoded data removed]",
      "text/plain": [
       "<matplotlib.figure.Figure at 0x7f28039bbc18>"
      ]
     },
     "metadata": {},
     "output_type": "display_data"
    }
   ],
   "source": [
    "# predict using model\n",
    "y_pred = theta1*X + theta0\n",
    "\n",
    "# plot\n",
    "plt.scatter(X, y)\n",
    "plt.plot(X, y_pred)\n",
    "plt.title(\"Line for theta1 = 1\")\n",
    "plt.xlabel(\"x\")\n",
    "plt.ylabel(\"y\")\n",
    "plt.show()"
   ]
  },
  {
   "cell_type": "markdown",
   "metadata": {},
   "source": [
    "## Plot $\\theta1$ vs Cost again"
   ]
  },
  {
   "cell_type": "code",
   "execution_count": 40,
   "metadata": {
    "collapsed": false
   },
   "outputs": [
    {
     "data": {
      "image/png": "[encoded data removed]",
      "text/plain": [
       "<matplotlib.figure.Figure at 0x7f28033ab9e8>"
      ]
     },
     "metadata": {},
     "output_type": "display_data"
    }
   ],
   "source": [
    "# save theta1 and cost in a vector\n",
    "cost_log.append(cost)\n",
    "theta1_log.append(theta1)\n",
    "\n",
    "# plot\n",
    "plt.scatter(theta1_log, cost_log)\n",
    "plt.title(\"Theta1 vs Cost\")\n",
    "plt.xlabel(\"Theta1\")\n",
    "plt.ylabel(\"Cost\")\n",
    "plt.show()"
   ]
  },
  {
   "cell_type": "markdown",
   "metadata": {},
   "source": [
    "## Lets assume $\\theta_0 = 0$ and  $\\theta_1=2$\n",
    "\n",
    "Model h(x) = $\\theta_0$ + $\\theta_1$x = 2x\n",
    "\n",
    "Cost function J($\\theta$) = $\\frac{1}{2m}\\sum_{i=1}^{m} (h(x^i) - y^i)^2$ = $\\frac{1}{2m}\\sum_{i=1}^{m} (2x^i - y^i)^2$"
   ]
  },
  {
   "cell_type": "code",
   "execution_count": 41,
   "metadata": {
    "collapsed": false
   },
   "outputs": [
    {
     "name": "stdout",
     "output_type": "stream",
     "text": [
      "5.4\n"
     ]
    },
    {
     "data": {
      "image/png": "[encoded data removed]",
      "text/plain": [
       "<matplotlib.figure.Figure at 0x7f28036e15c0>"
      ]
     },
     "metadata": {},
     "output_type": "display_data"
    }
   ],
   "source": [
    "theta0 = 0\n",
    "theta1 = 2\n",
    "\n",
    "cost = 0\n",
    "for i in range(m):\n",
    "        hx = theta1*X[i,0] + theta0\n",
    "        cost += pow((hx - y[i,0]),2)\n",
    "\n",
    "cost = cost/(2*m)             \n",
    "print (cost)\n",
    "\n",
    "\n",
    "# predict using model\n",
    "y_pred = theta1*X + theta0\n",
    "\n",
    "# plot\n",
    "plt.scatter(X, y)\n",
    "plt.plot(X, y_pred)\n",
    "plt.title(\"Line for theta1 = 2\")\n",
    "plt.xlabel(\"x\")\n",
    "plt.ylabel(\"y\")\n",
    "plt.show()\n",
    "\n"
   ]
  },
  {
   "cell_type": "code",
   "execution_count": 42,
   "metadata": {
    "collapsed": false
   },
   "outputs": [
    {
     "data": {
      "image/png": "[encoded data removed]",
      "text/plain": [
       "<matplotlib.figure.Figure at 0x7f2803776e10>"
      ]
     },
     "metadata": {},
     "output_type": "display_data"
    }
   ],
   "source": [
    "# save theta1 and cost in a vector\n",
    "cost_log.append(cost)\n",
    "theta1_log.append(theta1)\n",
    "\n",
    "# plot\n",
    "plt.scatter(theta1_log, cost_log)\n",
    "plt.title(\"theta1 vs Cost\")\n",
    "plt.xlabel(\"Theta1\")\n",
    "plt.ylabel(\"Cost\")\n",
    "plt.show()"
   ]
  },
  {
   "cell_type": "markdown",
   "metadata": {},
   "source": [
    "## Run it for a while"
   ]
  },
  {
   "cell_type": "code",
   "execution_count": 43,
   "metadata": {
    "collapsed": false
   },
   "outputs": [],
   "source": [
    "theta0 = 0\n",
    "theta1 = -3.1\n",
    "\n",
    "cost_log = []\n",
    "theta1_log = [];\n",
    "\n",
    "inc = 0.1\n",
    "for j in range(61):\n",
    "    theta1 = theta1 + inc;\n",
    "    \n",
    "    cost = 0\n",
    "    for i in range(m):\n",
    "        hx = theta1*X[i,0] + theta0\n",
    "        cost += pow((hx - y[i,0]),2)\n",
    "\n",
    "    cost = cost/(2*m)             \n",
    "\n",
    "    cost_log.append(cost)\n",
    "    theta1_log.append(theta1)\n"
   ]
  },
  {
   "cell_type": "markdown",
   "metadata": {
    "collapsed": false
   },
   "source": [
    "## plot $\\theta_1$ vs Cost"
   ]
  },
  {
   "cell_type": "code",
   "execution_count": 44,
   "metadata": {
    "collapsed": false
   },
   "outputs": [
    {
     "data": {
      "image/png": "[encoded data removed]",
      "text/plain": [
       "<matplotlib.figure.Figure at 0x7f28035153c8>"
      ]
     },
     "metadata": {},
     "output_type": "display_data"
    }
   ],
   "source": [
    "plt.scatter(theta1_log, cost_log)\n",
    "plt.title(\"theta1 vs Cost\")\n",
    "plt.xlabel(\"Theta1\")\n",
    "plt.ylabel(\"Cost\")\n",
    "plt.show()"
   ]
  },
  {
   "cell_type": "markdown",
   "metadata": {},
   "source": [
    "<br>\n",
    "<br>"
   ]
  },
  {
   "cell_type": "markdown",
   "metadata": {},
   "source": [
    "# Lets do it with Gradient Descent now\n"
   ]
  },
  {
   "cell_type": "code",
   "execution_count": 45,
   "metadata": {
    "collapsed": false
   },
   "outputs": [],
   "source": [
    "theta0 = 0\n",
    "theta1 = -3\n",
    "\n",
    "alpha = 0.1\n",
    "interations = 100\n",
    "\n",
    "cost_log = []\n",
    "iter_log = [];\n",
    "\n",
    "inc = 0.1\n",
    "for j in range(interations):\n",
    "    \n",
    "    cost = 0\n",
    "    grad = 0\n",
    "    for i in range(m):\n",
    "        hx = theta1*X[i,0] + theta0      \n",
    "        cost +=  pow((hx - y[i,0]),2)\n",
    "        grad += ((hx - y[i,0]))*X[i,0]\n",
    "\n",
    "    cost = cost/(2*m)\n",
    "    grad = grad/(2*m)             \n",
    "    theta1 = theta1 - alpha*grad\n",
    "    \n",
    "    cost_log.append(cost)"
   ]
  },
  {
   "cell_type": "code",
   "execution_count": 46,
   "metadata": {
    "collapsed": false
   },
   "outputs": [
    {
     "data": {
      "text/plain": [
       "0.79999999999999993"
      ]
     },
     "execution_count": 46,
     "metadata": {},
     "output_type": "execute_result"
    }
   ],
   "source": [
    "theta1"
   ]
  },
  {
   "cell_type": "markdown",
   "metadata": {},
   "source": [
    "## Plot Convergence"
   ]
  },
  {
   "cell_type": "code",
   "execution_count": 47,
   "metadata": {
    "collapsed": false
   },
   "outputs": [
    {
     "data": {
      "image/png": "[encoded data removed]",
      "text/plain": [
       "<matplotlib.figure.Figure at 0x7f280336f240>"
      ]
     },
     "metadata": {},
     "output_type": "display_data"
    }
   ],
   "source": [
    "plt.plot(cost_log)\n",
    "plt.title(\"Convergence of Cost Function\")\n",
    "plt.xlabel(\"Iteration number\")\n",
    "plt.ylabel(\"Cost function\")\n",
    "plt.show()"
   ]
  },
  {
   "cell_type": "markdown",
   "metadata": {
    "slideshow": {
     "slide_type": "slide"
    }
   },
   "source": [
    "## Predict output using trained model"
   ]
  },
  {
   "cell_type": "code",
   "execution_count": 48,
   "metadata": {
    "collapsed": false,
    "slideshow": {
     "slide_type": "fragment"
    }
   },
   "outputs": [
    {
     "data": {
      "image/png": "[encoded data removed]",
      "text/plain": [
       "<matplotlib.figure.Figure at 0x7f28037a65c0>"
      ]
     },
     "metadata": {},
     "output_type": "display_data"
    }
   ],
   "source": [
    "# predict using model\n",
    "y_pred = theta1*X + theta0\n",
    "\n",
    "# plot\n",
    "plt.scatter(X, y)\n",
    "plt.plot(X, y_pred)\n",
    "plt.title(\"Line for Theta1 from Gradient Descent\")\n",
    "plt.xlabel(\"x\")\n",
    "plt.ylabel(\"y\")\n",
    "plt.show()"
   ]
  },
  {
   "cell_type": "markdown",
   "metadata": {
    "slideshow": {
     "slide_type": "slide"
    }
   },
   "source": [
    "# Resources\n",
    "\n",
    "Course website: [https://w4zir.github.io/ml17s/](https://w4zir.github.io/ml17s/)\n",
    "\n",
    "[Course resources](https://github.com/w4zir/ml17s)"
   ]
  },
  {
   "cell_type": "markdown",
   "metadata": {
    "slideshow": {
     "slide_type": "fragment"
    }
   },
   "source": [
    "# Credits\n",
    "Raschka, Sebastian. Python machine learning. Birmingham, UK: Packt Publishing, 2015. Print.\n",
    "\n",
    "[Andrew Ng, Machine Learning, Coursera](#https://www.coursera.org/learn/machine-learning)\n",
    "\n",
    "[Lucas Shen](https://github.com/icrtiou/Coursera-ML-AndrewNg)\n",
    "\n",
    "[David Kaleko](https://github.com/kaleko/CourseraML)"
   ]
  }
 ],
 "metadata": {
  "anaconda-cloud": {},
  "kernelspec": {
   "display_name": "Python 3",
   "language": "python",
   "name": "python3"
  },
  "language_info": {
   "codemirror_mode": {
    "name": "ipython",
    "version": 3
   },
   "file_extension": ".py",
   "mimetype": "text/x-python",
   "name": "python",
   "nbconvert_exporter": "python",
   "pygments_lexer": "ipython3",
   "version": "3.6.0"
  }
 },
 "nbformat": 4,
 "nbformat_minor": 0
}
