{
 "cells": [
  {
   "cell_type": "markdown",
   "metadata": {
    "slideshow": {
     "slide_type": "slide"
    }
   },
   "source": [
    "# CSAL4243: Introduction to Machine Learning\n",
    "Muhammad Mudassir Khan (mudasssir.khan@ucp.edu.pk)"
   ]
  },
  {
   "cell_type": "markdown",
   "metadata": {
    "slideshow": {
     "slide_type": "slide"
    }
   },
   "source": [
    "# Lecture 3: Gradient Descent"
   ]
  },
  {
   "cell_type": "markdown",
   "metadata": {
    "slideshow": {
     "slide_type": "fragment"
    }
   },
   "source": [
    "### Overview"
   ]
  },
  {
   "cell_type": "markdown",
   "metadata": {
    "collapsed": true,
    "slideshow": {
     "slide_type": "fragment"
    }
   },
   "source": [
    "- [What is Machine Learning?](#what-is-ml)\n",
    "- [The three different types of machine learning](#The-three-different-types-of-machine-learning)\n",
    "    - [Supervised Learning](#Supervised-Learning)\n",
    "- [Machine Learning pipeline](#Machine-Learning-pipeline)\n",
    "- [Goal of Machine Learning algorithm](#Goal-of-Machine-Learning-algorithm)\n",
    "- [# Linear Regression with one variable](#Linear-Regression-with-one-variable)\n",
    "    - [Model Representation](#Model-Representation)\n",
    "    - [Cost Function](#Cost-Function)\n",
    "- [Gradient Descent](#Gradient-Descent)\n",
    "    - [Gradient Descent Equation](#Gradient-Descent-Equation)\n",
    "    - [Derivate Part](#Derivate-Part)\n",
    "    - [Learning Rate $\\alpha$](#Learning-Rate-$\\alpha$)\n",
    "    - [Convergence of Gradient Descent](#Convergence-of-Gradient-Descent)\n",
    "- [Gradient Descent for Linear Regression](#Gradient-Descent-for-Linear-Regression)\n",
    "    - [Deriving $\\frac{\\partial}{\\partial \\theta_j} J(\\theta_0, \\theta_1)$](#Deriving-$\\frac{\\partial}{\\partial \\theta_j} J(\\theta_0, \\theta_1)$)\n",
    "- [Price of the house yet again?](#Price-of-the-house-yet-again?)\n",
    "    - [Read data](#Read-data)\n",
    "    - [Plot data](#Plot-data)\n",
    "    - [Initialize Hyper Parameters](#Initialize Hyper Parameters)\n",
    "    - [Model/Hypothesis Function](#Model/Hypothesis-Function)\n",
    "    - [Cost Function](#Cost-Function)\n",
    "    - [Gradient Descent](#Gradient-Descent)\n",
    "    - [Run Gradient Descent](#Run-Gradient-Descent)\n",
    "    - [Plot Convergence](#Plot-Convergence)\n",
    "    - [Predict output using trained model](#Predict-output-using-trained-model)\n",
    "    - [Plot Results](#Plot-Results)\n",
    "- [Resources](#Resources)\n",
    "- [Credits](#credits)"
   ]
  },
  {
   "cell_type": "markdown",
   "metadata": {},
   "source": [
    "<br>\n",
    "<br>"
   ]
  },
  {
   "cell_type": "markdown",
   "metadata": {
    "slideshow": {
     "slide_type": "slide"
    }
   },
   "source": [
    "# What is Machine Learning? <a name=\"what-is-ml\"></a> "
   ]
  },
  {
   "cell_type": "markdown",
   "metadata": {
    "slideshow": {
     "slide_type": "fragment"
    }
   },
   "source": [
    "* Machine Learning is making computers/machcines learn from data\n",
    "* Learning improve over time with more data"
   ]
  },
  {
   "cell_type": "markdown",
   "metadata": {},
   "source": [
    "<br>\n",
    "<br>"
   ]
  },
  {
   "cell_type": "markdown",
   "metadata": {
    "slideshow": {
     "slide_type": "slide"
    }
   },
   "source": [
    "# The three different types of machine learning"
   ]
  },
  {
   "cell_type": "markdown",
   "metadata": {
    "slideshow": {
     "slide_type": "fragment"
    }
   },
   "source": [
    "<img style=\"float: left;\" src=\"images/01_01.png\", width=500>"
   ]
  },
  {
   "cell_type": "markdown",
   "metadata": {},
   "source": [
    "<br>\n",
    "<br>"
   ]
  },
  {
   "cell_type": "markdown",
   "metadata": {
    "slideshow": {
     "slide_type": "slide"
    }
   },
   "source": [
    "## Supervised Learning"
   ]
  },
  {
   "cell_type": "markdown",
   "metadata": {
    "slideshow": {
     "slide_type": "fragment"
    }
   },
   "source": [
    "<img style=\"float: left;\" src=\"images/01_02.png\", width=500>"
   ]
  },
  {
   "cell_type": "markdown",
   "metadata": {},
   "source": [
    "<br>\n",
    "<br>"
   ]
  },
  {
   "cell_type": "markdown",
   "metadata": {
    "slideshow": {
     "slide_type": "slide"
    }
   },
   "source": [
    "# Machine Learning pipeline"
   ]
  },
  {
   "cell_type": "markdown",
   "metadata": {
    "slideshow": {
     "slide_type": "fragment"
    }
   },
   "source": [
    "<img style=\"float: left;\" src=\"images/model.png\">"
   ]
  },
  {
   "cell_type": "markdown",
   "metadata": {
    "slideshow": {
     "slide_type": "fragment"
    }
   },
   "source": [
    "- x is called input variables or input features.\n",
    "\n",
    "- y is called output or target variable. Also sometimes known as label.\n",
    "\n",
    "- h is called hypothesis or model. \n",
    "\n",
    "- pair (x<sup>(i)</sup>,y<sup>(i)</sup>) is called a sample or training example\n",
    "\n",
    "- dataset of all training examples is called training set.\n",
    "\n",
    "- m is the number of samples in a dataset.\n",
    "\n",
    "- n is the number of features in a dataset excluding label."
   ]
  },
  {
   "cell_type": "markdown",
   "metadata": {
    "slideshow": {
     "slide_type": "fragment"
    }
   },
   "source": [
    "<img style=\"float: left;\" src=\"images/02_02.png\", width=400> "
   ]
  },
  {
   "cell_type": "markdown",
   "metadata": {},
   "source": [
    "<br>\n",
    "<br>"
   ]
  },
  {
   "cell_type": "markdown",
   "metadata": {
    "slideshow": {
     "slide_type": "slide"
    }
   },
   "source": [
    "# Goal of Machine Learning algorithm\n",
    "\n",
    "- How well the algorithm will perform on unseen data. \n",
    "- Also called generalization."
   ]
  },
  {
   "cell_type": "markdown",
   "metadata": {},
   "source": [
    "<br>\n",
    "<br>"
   ]
  },
  {
   "cell_type": "markdown",
   "metadata": {
    "slideshow": {
     "slide_type": "slide"
    }
   },
   "source": [
    "# Linear Regression with one variable"
   ]
  },
  {
   "cell_type": "markdown",
   "metadata": {
    "slideshow": {
     "slide_type": "fragment"
    }
   },
   "source": [
    "## Model Representation\n",
    "\n",
    "- Model is represented by h<sub>$\\theta$</sub>(x) or simply h(x)\n",
    "\n",
    "- For Linear regression with one input variable h(x) =  $\\theta$<sub>0</sub> + $\\theta$<sub>1</sub>x\n",
    "\n",
    "<img style=\"float: left;\" src=\"images/02_01.png\">"
   ]
  },
  {
   "cell_type": "markdown",
   "metadata": {
    "slideshow": {
     "slide_type": "fragment"
    }
   },
   "source": [
    "- $\\theta$<sub>0</sub> and $\\theta$<sub>1</sub> are called weights or parameters.\n",
    "- Need to find $\\theta$<sub>0</sub> and $\\theta$<sub>1</sub> that maximizes the performance of model."
   ]
  },
  {
   "cell_type": "markdown",
   "metadata": {},
   "source": [
    "<br>"
   ]
  },
  {
   "cell_type": "markdown",
   "metadata": {},
   "source": [
    "<br>\n",
    "<br>"
   ]
  },
  {
   "cell_type": "markdown",
   "metadata": {
    "slideshow": {
     "slide_type": "slide"
    }
   },
   "source": [
    "## Cost Function"
   ]
  },
  {
   "cell_type": "markdown",
   "metadata": {
    "slideshow": {
     "slide_type": "fragment"
    }
   },
   "source": [
    "Let $\\hat{y}$ = h(x) =  $\\theta$<sub>0</sub> + $\\theta$<sub>1</sub>x\n",
    "\n",
    "Error in single sample (x,y) = $\\hat{y}$ - y = h(x) - y \n",
    "\n",
    "Cummulative error of all m samples = $\\sum_{i=1}^{m} (h(x^i) - y^i)^2$\n",
    "\n",
    "Finally mean error or cost function = J($\\theta$) = $\\frac{1}{2m}\\sum_{i=1}^{m} (h(x^i) - y^i)^2$\n",
    "\n",
    "<img style=\"float: left;\" src=\"images/03_01.png\", width=300> <img style=\"float: right;\" src=\"images/03_02.png\", width=300>"
   ]
  },
  {
   "cell_type": "markdown",
   "metadata": {},
   "source": [
    "<br>\n",
    "<br>"
   ]
  },
  {
   "cell_type": "markdown",
   "metadata": {},
   "source": [
    "# Gradient Descent\n",
    "\n",
    "\n",
    "<img style=\"float: left;\" src=\"images/03_05.png\" width = 500>\n",
    "<img style=\"float: left;\" src=\"images/03_04.gif\" width = 700>"
   ]
  },
  {
   "cell_type": "markdown",
   "metadata": {},
   "source": [
    "<br>\n",
    "## Gradient Descent Equation\n",
    "\n",
    "<img src=\"images/03_06.png\" width = 500>\n",
    "\n",
    "- $\\alpha$ is called learning rate that control the step size."
   ]
  },
  {
   "cell_type": "markdown",
   "metadata": {},
   "source": [
    "<br>\n",
    "## Derivative Part\n",
    "\n",
    "<img style=\"float: left;\" src=\"images/03_09.png\" width = 500>"
   ]
  },
  {
   "cell_type": "markdown",
   "metadata": {},
   "source": [
    "<br>\n",
    "## Learning Rate $\\alpha$\n",
    "\n",
    "<img style=\"float: left;\" src=\"images/03_10.png\" width = 500>"
   ]
  },
  {
   "cell_type": "markdown",
   "metadata": {},
   "source": [
    "<br>\n",
    "## Convergence of Gradient Descent\n",
    "\n",
    "<img style=\"float: left;\" src=\"images/03_11.png\" width = 500>"
   ]
  },
  {
   "cell_type": "markdown",
   "metadata": {},
   "source": [
    "---\n",
    "<br>\n",
    "<br>\n",
    "# Gradient Descent for Linear Regression\n",
    "\n",
    "\n",
    "Cost function:\n",
    "\n",
    "J($\\theta$) = $\\frac{1}{2m}\\sum_{i=1}^{m} (h(x^i) - y^i)^2$\n",
    "\n",
    "Gradient descent equation:\n",
    "\n",
    "$\\theta_j := \\theta_j - \\alpha \\frac{\\partial}{\\partial \\theta_j} J(\\theta_0, \\theta_1)$\n",
    "\n",
    "---"
   ]
  },
  {
   "cell_type": "markdown",
   "metadata": {},
   "source": [
    "<br>\n",
    "Replacing J($\\theta$) for each j\n",
    "\n",
    "\\begin{align*} \\text{repeat until convergence: } \\lbrace & \\newline \\theta_0 := & \\theta_0 - \\alpha \\frac{1}{m} \\sum\\limits_{i=1}^{m}(h_\\theta(x_{i}) - y_{i}) \\newline \\theta_1 := & \\theta_1 - \\alpha \\frac{1}{m} \\sum\\limits_{i=1}^{m}\\left((h_\\theta(x_{i}) - y_{i}) x_{i}\\right) \\newline \\rbrace& \\end{align*}\n",
    "\n",
    "---"
   ]
  },
  {
   "cell_type": "markdown",
   "metadata": {},
   "source": [
    "## Deriving $\\frac{\\partial}{\\partial \\theta_j} J(\\theta_0, \\theta_1)$\n",
    "<img src=\"images/03_12.png\" width = 500>\n",
    "\n",
    "---"
   ]
  },
  {
   "cell_type": "markdown",
   "metadata": {},
   "source": [
    "<br>\n",
    "<br>"
   ]
  },
  {
   "cell_type": "markdown",
   "metadata": {
    "slideshow": {
     "slide_type": "slide"
    }
   },
   "source": [
    "# Price of the house yet again? "
   ]
  },
  {
   "cell_type": "markdown",
   "metadata": {
    "slideshow": {
     "slide_type": "subslide"
    }
   },
   "source": [
    "## Read data"
   ]
  },
  {
   "cell_type": "code",
   "execution_count": 1,
   "metadata": {
    "collapsed": false,
    "scrolled": true,
    "slideshow": {
     "slide_type": "fragment"
    }
   },
   "outputs": [],
   "source": [
    "%matplotlib inline\n",
    "import pandas as pd\n",
    "import numpy as np\n",
    "from sklearn import linear_model\n",
    "import matplotlib.pyplot as plt\n",
    "\n",
    "# read data in pandas frame\n",
    "dataframe = pd.read_csv('datasets/house_dataset1.csv')\n",
    "\n",
    "# assign x and y\n",
    "X = np.array(dataframe[['Size']])\n",
    "y = np.array(dataframe[['Price']])\n",
    "\n",
    "m = y.size # number of training examples\n",
    "#Insert the usual column of 1's into the \"X\" matrix\n",
    "X = np.insert(X,0,1,axis=1)"
   ]
  },
  {
   "cell_type": "code",
   "execution_count": 2,
   "metadata": {
    "collapsed": false,
    "slideshow": {
     "slide_type": "fragment"
    }
   },
   "outputs": [
    {
     "data": {
      "text/html": [
       "<div>\n",
       "<table border=\"1\" class=\"dataframe\">\n",
       "  <thead>\n",
       "    <tr style=\"text-align: right;\">\n",
       "      <th></th>\n",
       "      <th>Size</th>\n",
       "      <th>Price</th>\n",
       "    </tr>\n",
       "  </thead>\n",
       "  <tbody>\n",
       "    <tr>\n",
       "      <th>0</th>\n",
       "      <td>2104</td>\n",
       "      <td>399900</td>\n",
       "    </tr>\n",
       "    <tr>\n",
       "      <th>1</th>\n",
       "      <td>1600</td>\n",
       "      <td>329900</td>\n",
       "    </tr>\n",
       "    <tr>\n",
       "      <th>2</th>\n",
       "      <td>2400</td>\n",
       "      <td>369000</td>\n",
       "    </tr>\n",
       "    <tr>\n",
       "      <th>3</th>\n",
       "      <td>1416</td>\n",
       "      <td>232000</td>\n",
       "    </tr>\n",
       "    <tr>\n",
       "      <th>4</th>\n",
       "      <td>3000</td>\n",
       "      <td>539900</td>\n",
       "    </tr>\n",
       "  </tbody>\n",
       "</table>\n",
       "</div>"
      ],
      "text/plain": [
       "   Size   Price\n",
       "0  2104  399900\n",
       "1  1600  329900\n",
       "2  2400  369000\n",
       "3  1416  232000\n",
       "4  3000  539900"
      ]
     },
     "execution_count": 2,
     "metadata": {},
     "output_type": "execute_result"
    }
   ],
   "source": [
    "# check data by printing first few rows\n",
    "dataframe.head()"
   ]
  },
  {
   "cell_type": "markdown",
   "metadata": {
    "slideshow": {
     "slide_type": "subslide"
    }
   },
   "source": [
    "## Plot data"
   ]
  },
  {
   "cell_type": "code",
   "execution_count": 3,
   "metadata": {
    "collapsed": false,
    "slideshow": {
     "slide_type": "fragment"
    }
   },
   "outputs": [
    {
     "data": {
      "image/png": "[encoded data removed]",
      "text/plain": [
       "<matplotlib.figure.Figure at 0x7f78d04c1978>"
      ]
     },
     "metadata": {},
     "output_type": "display_data"
    }
   ],
   "source": [
    "#visualize results\n",
    "plt.scatter(X[:,1], y)\n",
    "plt.show()"
   ]
  },
  {
   "cell_type": "markdown",
   "metadata": {},
   "source": [
    "## Initialize Hyper Parameters"
   ]
  },
  {
   "cell_type": "code",
   "execution_count": 4,
   "metadata": {
    "collapsed": true
   },
   "outputs": [],
   "source": [
    "iterations = 1500\n",
    "alpha = 0.000000001"
   ]
  },
  {
   "cell_type": "markdown",
   "metadata": {},
   "source": [
    "## Model/Hypothesis Function"
   ]
  },
  {
   "cell_type": "code",
   "execution_count": 5,
   "metadata": {
    "collapsed": true
   },
   "outputs": [],
   "source": [
    "def h(theta,X): #Linear hypothesis function\n",
    "    return np.dot(X,theta)"
   ]
  },
  {
   "cell_type": "markdown",
   "metadata": {
    "slideshow": {
     "slide_type": "slide"
    }
   },
   "source": [
    "## Cost Function"
   ]
  },
  {
   "cell_type": "code",
   "execution_count": 6,
   "metadata": {
    "collapsed": false,
    "slideshow": {
     "slide_type": "fragment"
    }
   },
   "outputs": [
    {
     "name": "stdout",
     "output_type": "stream",
     "text": [
      "65591548106.45744\n"
     ]
    }
   ],
   "source": [
    "def computeCost(mytheta,X,y): #Cost function\n",
    "    \"\"\"\n",
    "    theta_start is an n- dimensional vector of initial theta guess\n",
    "    X is matrix with n- columns and m- rows\n",
    "    y is a matrix with m- rows and 1 column\n",
    "    \"\"\"\n",
    "    #note to self: *.shape is (rows, columns)\n",
    "    return float((1./(2*m)) * np.dot((h(mytheta,X)-y).T,(h(mytheta,X)-y)))\n",
    "\n",
    "#Test that running computeCost with 0's as theta returns 65591548106.45744:\n",
    "initial_theta = np.zeros((X.shape[1],1)) #(theta is a vector with n rows and 1 columns (if X has n features) )\n",
    "print (computeCost(initial_theta,X,y))"
   ]
  },
  {
   "cell_type": "markdown",
   "metadata": {},
   "source": [
    "## Gradient Descent Function"
   ]
  },
  {
   "cell_type": "code",
   "execution_count": 7,
   "metadata": {
    "collapsed": true
   },
   "outputs": [],
   "source": [
    "#Actual gradient descent minimizing routine\n",
    "def descendGradient(X, theta_start = np.zeros(2)):\n",
    "    \"\"\"\n",
    "    theta_start is an n- dimensional vector of initial theta guess\n",
    "    X is matrix with n- columns and m- rows\n",
    "    \"\"\"\n",
    "    theta = theta_start\n",
    "    jvec = [] #Used to plot cost as function of iteration\n",
    "    thetahistory = [] #Used to visualize the minimization path later on\n",
    "    for meaninglessvariable in range(iterations):\n",
    "        tmptheta = theta\n",
    "        # append for plotting\n",
    "        jvec.append(computeCost(theta,X,y))\n",
    "        thetahistory.append(list(theta[:,0]))\n",
    "        #Simultaneously updating theta values\n",
    "        for j in range(len(tmptheta)):\n",
    "            tmptheta[j] = theta[j] - (alpha/m)*np.sum((h(theta,X) - y)*np.array(X[:,j]).reshape(m,1))\n",
    "        theta = tmptheta\n",
    "    return theta, thetahistory, jvec"
   ]
  },
  {
   "cell_type": "markdown",
   "metadata": {},
   "source": [
    "## Run Gradient Descent"
   ]
  },
  {
   "cell_type": "code",
   "execution_count": 8,
   "metadata": {
    "collapsed": false
   },
   "outputs": [],
   "source": [
    "#Actually run gradient descent to get the best-fit theta values\n",
    "initial_theta = np.zeros((X.shape[1],1))\n",
    "theta, thetahistory, jvec = descendGradient(X,initial_theta)\n"
   ]
  },
  {
   "cell_type": "markdown",
   "metadata": {},
   "source": [
    "## Plot Convergence"
   ]
  },
  {
   "cell_type": "code",
   "execution_count": 9,
   "metadata": {
    "collapsed": false
   },
   "outputs": [
    {
     "data": {
      "image/png": "[encoded data removed]",
      "text/plain": [
       "<matplotlib.figure.Figure at 0x7f789ea05240>"
      ]
     },
     "metadata": {},
     "output_type": "display_data"
    }
   ],
   "source": [
    "plt.plot(jvec)\n",
    "plt.title(\"Convergence of Cost Function\")\n",
    "plt.xlabel(\"Iteration number\")\n",
    "plt.ylabel(\"Cost function\")\n",
    "plt.show()"
   ]
  },
  {
   "cell_type": "markdown",
   "metadata": {
    "slideshow": {
     "slide_type": "slide"
    }
   },
   "source": [
    "## Predict output using trained model"
   ]
  },
  {
   "cell_type": "code",
   "execution_count": 10,
   "metadata": {
    "collapsed": true,
    "slideshow": {
     "slide_type": "fragment"
    }
   },
   "outputs": [],
   "source": [
    "hx = h(theta, X)"
   ]
  },
  {
   "cell_type": "markdown",
   "metadata": {
    "slideshow": {
     "slide_type": "fragment"
    }
   },
   "source": [
    "## Plot Results"
   ]
  },
  {
   "cell_type": "code",
   "execution_count": 11,
   "metadata": {
    "collapsed": false,
    "slideshow": {
     "slide_type": "fragment"
    }
   },
   "outputs": [
    {
     "data": {
      "image/png": "[encoded data removed]",
      "text/plain": [
       "<matplotlib.figure.Figure at 0x7f789e9daf98>"
      ]
     },
     "metadata": {},
     "output_type": "display_data"
    }
   ],
   "source": [
    "plt.scatter(X[:,1], y)\n",
    "plt.plot(X[:,1], hx)\n",
    "plt.show()"
   ]
  },
  {
   "cell_type": "markdown",
   "metadata": {
    "slideshow": {
     "slide_type": "slide"
    }
   },
   "source": [
    "# Resources\n",
    "\n",
    "Course website: [https://w4zir.github.io/ml17s/](https://w4zir.github.io/ml17s/)\n",
    "\n",
    "[Course resources](https://github.com/w4zir/ml17s)"
   ]
  },
  {
   "cell_type": "markdown",
   "metadata": {
    "slideshow": {
     "slide_type": "fragment"
    }
   },
   "source": [
    "# Credits\n",
    "Raschka, Sebastian. Python machine learning. Birmingham, UK: Packt Publishing, 2015. Print.\n",
    "\n",
    "[Andrew Ng, Machine Learning, Coursera](#https://www.coursera.org/learn/machine-learning)\n",
    "\n",
    "[Lucas Shen](https://github.com/icrtiou/Coursera-ML-AndrewNg)\n",
    "\n",
    "[David Kaleko](https://github.com/kaleko/CourseraML)"
   ]
  }
 ],
 "metadata": {
  "anaconda-cloud": {},
  "kernelspec": {
   "display_name": "Python [default]",
   "language": "python",
   "name": "python3"
  },
  "language_info": {
   "codemirror_mode": {
    "name": "ipython",
    "version": 3
   },
   "file_extension": ".py",
   "mimetype": "text/x-python",
   "name": "python",
   "nbconvert_exporter": "python",
   "pygments_lexer": "ipython3",
   "version": "3.5.2"
  }
 },
 "nbformat": 4,
 "nbformat_minor": 0
}
