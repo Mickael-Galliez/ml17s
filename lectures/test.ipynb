{
 "cells": [
  {
   "cell_type": "code",
   "execution_count": 1,
   "metadata": {
    "collapsed": true
   },
   "outputs": [],
   "source": [
    "import numpy as np"
   ]
  },
  {
   "cell_type": "code",
   "execution_count": 3,
   "metadata": {
    "collapsed": false
   },
   "outputs": [],
   "source": [
    "X = np.array([[1,1],[2,1],[1,3],[2,3]])\n",
    "y = np.array([[0,0,1,1]])"
   ]
  },
  {
   "cell_type": "code",
   "execution_count": 47,
   "metadata": {
    "collapsed": false
   },
   "outputs": [
    {
     "data": {
      "text/plain": [
       "<matplotlib.text.Text at 0x7fbb53b110f0>"
      ]
     },
     "execution_count": 47,
     "metadata": {},
     "output_type": "execute_result"
    },
    {
     "data": {
      "image/png": "[encoded data removed]",
      "text/plain": [
       "<matplotlib.figure.Figure at 0x7fbb53cd20f0>"
      ]
     },
     "metadata": {},
     "output_type": "display_data"
    }
   ],
   "source": [
    "import matplotlib as mpl\n",
    "import matplotlib.pyplot as plt\n",
    "%matplotlib inline\n",
    "\n",
    "fig = plt.figure()\n",
    "ax = fig.add_subplot(111)\n",
    "\n",
    "plt.scatter(X[0:2,0],X[0:2,1],color='Blue',marker='^',s=50)\n",
    "plt.scatter(X[2:,0],X[2:,1],color='Green',marker='o',s=50)\n",
    "\n",
    "x1 = np.arange(0, 2.5, 0.1)\n",
    "x2 = 2*x1\n",
    "plt.plot(x1,x2, color='red',linestyle='-.')\n",
    "\n",
    "x2 = 0*x1 + 2\n",
    "plt.plot(x1,x2, color='red',linestyle='-')\n",
    "\n",
    "x2 = 0*x1 + 1.5\n",
    "plt.plot(x1,x2, color='red',linestyle='--')\n",
    "\n",
    "ax.text(1.3, 4, \"$x_2 - 2x_1 = 0$\")\n",
    "ax.text(2.2, 2.1, \"$x_2 - 2 = 0$\")\n",
    "ax.text(2.2, 1.2, \"$x_2 - 1.5 = 0$\")"
   ]
  }
 ],
 "metadata": {
  "anaconda-cloud": {},
  "kernelspec": {
   "display_name": "Python [conda env:mllearn]",
   "language": "python",
   "name": "conda-env-mllearn-py"
  },
  "language_info": {
   "codemirror_mode": {
    "name": "ipython",
    "version": 3
   },
   "file_extension": ".py",
   "mimetype": "text/x-python",
   "name": "python",
   "nbconvert_exporter": "python",
   "pygments_lexer": "ipython3",
   "version": "3.5.2"
  }
 },
 "nbformat": 4,
 "nbformat_minor": 0
}
