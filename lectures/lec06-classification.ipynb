{
 "cells": [
  {
   "cell_type": "markdown",
   "metadata": {
    "slideshow": {
     "slide_type": "slide"
    }
   },
   "source": [
    "# CSAL4243: Introduction to Machine Learning\n",
    "Muhammad Mudassir Khan (mudasssir.khan@ucp.edu.pk)"
   ]
  },
  {
   "cell_type": "markdown",
   "metadata": {
    "slideshow": {
     "slide_type": "slide"
    }
   },
   "source": [
    "# Lecture 6: Polynomial Regression and Intro to Classification"
   ]
  },
  {
   "cell_type": "markdown",
   "metadata": {
    "slideshow": {
     "slide_type": "fragment"
    }
   },
   "source": [
    "### Overview"
   ]
  },
  {
   "cell_type": "markdown",
   "metadata": {
    "collapsed": true,
    "slideshow": {
     "slide_type": "fragment"
    }
   },
   "source": [
    "- [Linear Regression with multiple variables](#Linear-Regression-with-multiple-variables)\n",
    "- [Resources](#Resources)\n",
    "- [Credits](#Credits)"
   ]
  },
  {
   "cell_type": "markdown",
   "metadata": {},
   "source": [
    "<br>\n",
    "<br>"
   ]
  },
  {
   "cell_type": "markdown",
   "metadata": {},
   "source": [
    "<br>\n",
    "# Linear Regression with multiple variables\n",
    "\n",
    "<img style=\"float: right;\" src=\"images/02_03.png\"  width=300>\n",
    "\n",
    "\n",
    "<br>\n",
    "\n",
    "\n",
    "\n",
    "Model $h(x) = \\theta_0 + \\theta_1 x_1 + \\theta_2 x_2 .... + \\theta_n x_n$\n",
    "\n"
   ]
  },
  {
   "cell_type": "markdown",
   "metadata": {},
   "source": [
    "<br>"
   ]
  },
  {
   "cell_type": "markdown",
   "metadata": {
    "slideshow": {
     "slide_type": "slide"
    }
   },
   "source": [
    "# Psuedocode\n",
    "## Linear Regressio with Gradient Descent "
   ]
  },
  {
   "cell_type": "markdown",
   "metadata": {
    "slideshow": {
     "slide_type": "fragment"
    }
   },
   "source": [
    "- Load training data into X_train and y_train\n",
    "- [Optionally] normalize features X_train using $x^i = \\frac{x^i - \\mu^i}{\\rho^i}$ where $\\mu^i$ is mean and $\\rho^i$ is standard deviation of feature $i$\n",
    "- Initialize hyperparameters\n",
    "    - iterations \n",
    "    - learning rate $\\alpha$\n",
    "- Initialize $\\theta_s$    \n",
    "- At each iteration\n",
    "    - Compute cost using $J(\\theta) = \\frac{1}{2m}\\sum_{i=1}^{m} (h(x^i) - y^i)^2$ where $h(x) = \\theta_0 + \\theta_1 x_1 + \\theta_2 x_2 .... + \\theta_n x_n$\n",
    "    - Update $\\theta_s$ using $\\begin{align*} \\; \\; & \\theta_j := \\theta_j - \\alpha \\frac{1}{m} \\sum\\limits_{i=1}^{m} (h_\\theta(x_{i}) - y_{i}) \\cdot x^j_{i} \\; & & \\text{for j := 0...n} \\end{align*}$\n",
    "    - [Optionally] Break if cost $J(\\theta)$ does not change.\n",
    "    "
   ]
  },
  {
   "cell_type": "markdown",
   "metadata": {},
   "source": [
    "<br>\n",
    "# Polynomial Regression\n",
    "\n",
    "<img style=\"float: center;\" src=\"images/06_02.png\" width=500>\n",
    "\n",
    "<br>\n",
    "\n",
    "## Example\n",
    "\n",
    "<img style=\"float: center;\" src=\"images/06_01.jpg\" width=500>\n",
    "\n",
    "<br>"
   ]
  },
  {
   "cell_type": "markdown",
   "metadata": {},
   "source": [
    "# Classification vs Regression\n",
    "\n",
    "<img style=\"float: left;\" src=\"images/05_05.jpg\" width=300> <img style=\"float: center;\" src=\"images/05_04.png\" width=400>"
   ]
  },
  {
   "cell_type": "markdown",
   "metadata": {},
   "source": [
    "<br>\n",
    "# Classification Examples\n",
    "\n",
    "1. There will be rain tomorrow or not\n",
    "2. Email is spam or not\n",
    "3. Bank transaction is fraud or not\n",
    "4. Image is cat / dog"
   ]
  },
  {
   "cell_type": "markdown",
   "metadata": {},
   "source": [
    "<br>\n",
    "<img style=\"float: left;\" src=\"images/06_05.jpg\" width=300>"
   ]
  },
  {
   "cell_type": "markdown",
   "metadata": {},
   "source": [
    "<br>\n",
    "# K - Nearest Neighbor Classifier\n",
    "\n",
    "<img style=\"float: left;\" src=\"images/06_03.jpg\" width=1000>"
   ]
  },
  {
   "cell_type": "markdown",
   "metadata": {},
   "source": [
    "<br>\n",
    "<img style=\"float: left;\" src=\"images/06_04.png\" width=500>"
   ]
  },
  {
   "cell_type": "markdown",
   "metadata": {},
   "source": [
    "<br>\n",
    "# Nearest Neighbor Classifier"
   ]
  },
  {
   "cell_type": "markdown",
   "metadata": {
    "slideshow": {
     "slide_type": "slide"
    }
   },
   "source": [
    "# Resources\n",
    "\n",
    "Course website: [https://w4zir.github.io/ml17s/](https://w4zir.github.io/ml17s/)\n",
    "\n",
    "[Course resources](https://github.com/w4zir/ml17s)"
   ]
  },
  {
   "cell_type": "markdown",
   "metadata": {
    "slideshow": {
     "slide_type": "fragment"
    }
   },
   "source": [
    "# Credits\n",
    "Raschka, Sebastian. Python machine learning. Birmingham, UK: Packt Publishing, 2015. Print.\n",
    "\n",
    "[Andrew Ng, Machine Learning, Coursera](#https://www.coursera.org/learn/machine-learning)\n",
    "\n",
    "[Lucas Shen](https://github.com/icrtiou/Coursera-ML-AndrewNg)\n",
    "\n",
    "[David Kaleko](https://github.com/kaleko/CourseraML)"
   ]
  }
 ],
 "metadata": {
  "anaconda-cloud": {},
  "kernelspec": {
   "display_name": "Python 3",
   "language": "python",
   "name": "python3"
  },
  "language_info": {
   "codemirror_mode": {
    "name": "ipython",
    "version": 3
   },
   "file_extension": ".py",
   "mimetype": "text/x-python",
   "name": "python",
   "nbconvert_exporter": "python",
   "pygments_lexer": "ipython3",
   "version": "3.6.0"
  }
 },
 "nbformat": 4,
 "nbformat_minor": 0
}
