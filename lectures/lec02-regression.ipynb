{
 "cells": [
  {
   "cell_type": "markdown",
   "metadata": {
    "slideshow": {
     "slide_type": "slide"
    }
   },
   "source": [
    "# CSAL4243: Introduction to Machine Learning\n",
    "Muhammad Mudassir Khan (mudasssir.khan@ucp.edu.pk)"
   ]
  },
  {
   "cell_type": "markdown",
   "metadata": {
    "slideshow": {
     "slide_type": "slide"
    }
   },
   "source": [
    "# Lecture 1: Linear Regression"
   ]
  },
  {
   "cell_type": "markdown",
   "metadata": {
    "slideshow": {
     "slide_type": "fragment"
    }
   },
   "source": [
    "### Overview"
   ]
  },
  {
   "cell_type": "markdown",
   "metadata": {
    "collapsed": true,
    "slideshow": {
     "slide_type": "fragment"
    }
   },
   "source": [
    "- [What is Machine Learning?](#what-is-ml)\n",
    "    - [Learning algorithms](#Learning-algorithms)\n",
    "    - [Definition](#Definition)\n",
    "- [The three different types of machine learning](#The-three-different-types-of-machine-learning)\n",
    "    - [Learning from labled data with supervised learning](#Learning-from-labled-data-with-supervised-learning)\n",
    "        - [Regression for predicting continuous outcomes](#Regression-for-predicting-continuous-outcomes)\n",
    "        - [Classification for predicting class labels](#Classification-for-predicting-class-labels)\n",
    "    - [Discovering hidden structures with unsupervised learning](#Discovering-hidden-structures-with-unsupervised-learning)\n",
    "        - [Finding subgroups with clustering](#Finding-subgroups-with-clustering)\n",
    "    - [Solving interactive problems with reinforcement learning](#Solving-interactive-problems-with-reinforcement-learning)\n",
    "- [An introduction to the basic terminology and notations](#An-introduction-to-the-basic-terminology-and-notations)\n",
    "- [A roadmap for building machine learning systems](#A-roadmap-for-building-machine-learning-systems)\n",
    "- [Summary](#Summary)\n",
    "- [Credits](#credits)"
   ]
  },
  {
   "cell_type": "markdown",
   "metadata": {},
   "source": [
    "<br>\n",
    "<br>"
   ]
  },
  {
   "cell_type": "markdown",
   "metadata": {
    "slideshow": {
     "slide_type": "slide"
    }
   },
   "source": [
    "# What is Machine Learning? <a name=\"what-is-ml\"></a> "
   ]
  },
  {
   "cell_type": "markdown",
   "metadata": {},
   "source": [
    "* Machine Learning is making computers/machcines learn from data\n",
    "* Learning improve over time with more data"
   ]
  },
  {
   "cell_type": "markdown",
   "metadata": {},
   "source": [
    "## Definition\n",
    "Mitchell ( 1997 ) define Machine Learning as “A computer\n",
    "program is said to learn from experience E with respect to some class of tasks T\n",
    "and performance measure P , if its performance at tasks in T , as measured by P ,\n",
    "improves with experience E .”\n",
    "\n",
    "Example: playing checkers.\n",
    "\n",
    "T = the task of playing checkers.\n",
    "\n",
    "E = the experience of playing many games of checkers\n",
    "\n",
    "P = the probability that the program will win the next game."
   ]
  },
  {
   "cell_type": "markdown",
   "metadata": {},
   "source": [
    "<br>\n",
    "<br>"
   ]
  },
  {
   "cell_type": "markdown",
   "metadata": {},
   "source": [
    "# The three different types of machine learning\n",
    "\n",
    "<img style=\"float: left;\" src=\"images/01_01.png\", width=500>"
   ]
  },
  {
   "cell_type": "markdown",
   "metadata": {},
   "source": [
    "<br>\n",
    "<br>"
   ]
  },
  {
   "cell_type": "markdown",
   "metadata": {},
   "source": [
    "## Supervised Learning\n",
    "\n",
    "<img style=\"float: left;\" src=\"images/01_02.png\", width=500>"
   ]
  },
  {
   "cell_type": "markdown",
   "metadata": {},
   "source": [
    "<br>\n",
    "<br>"
   ]
  },
  {
   "cell_type": "markdown",
   "metadata": {},
   "source": [
    "### Regression for predicting continuous outcomes\n",
    "\n",
    "\n",
    "<img style=\"float: left;\" src=\"images/01_04.png\", width=300> <img style=\"float: right;\" src=\"images/01_11.png\", width=500>"
   ]
  },
  {
   "cell_type": "markdown",
   "metadata": {},
   "source": [
    "### Classification for predicting class labels\n",
    "\n",
    "<img style=\"float: left;\" src=\"images/01_03.png\", width=300> <img style=\"float: right;\" src=\"images/01_12.png\", width=500>"
   ]
  },
  {
   "cell_type": "markdown",
   "metadata": {},
   "source": [
    "<br>\n",
    "<br>"
   ]
  },
  {
   "cell_type": "markdown",
   "metadata": {},
   "source": [
    "## Unsupervised Learning\n",
    "\n",
    "<img style=\"float: left;\" src=\"images/01_06.png\", width=300>"
   ]
  },
  {
   "cell_type": "markdown",
   "metadata": {},
   "source": [
    "<br>\n",
    "<br>"
   ]
  },
  {
   "cell_type": "markdown",
   "metadata": {},
   "source": [
    "## Reinforcement Learning\n",
    "\n",
    "<img style=\"float: left;\" src=\"images/01_05.png\", width=300>"
   ]
  },
  {
   "cell_type": "markdown",
   "metadata": {},
   "source": [
    "<br>\n",
    "<br>"
   ]
  },
  {
   "cell_type": "markdown",
   "metadata": {},
   "source": [
    "# Machine Learning pipeline\n",
    "\n",
    "<img style=\"float: left;\" src=\"images/model.png\", width=500>"
   ]
  },
  {
   "cell_type": "markdown",
   "metadata": {},
   "source": [
    "- x is called input variables or input features.\n",
    "\n",
    "- y is called output or target variable. Also sometimes known as label.\n",
    "\n",
    "- h is called hypothesis or model. \n",
    "\n",
    "- pair (x<sup>(i)</sup>,y<sup>(i)</sup>) is called a sample or training example\n",
    "\n",
    "- dataset of all training examples is called training set.\n",
    "\n",
    "- m is the number of samples in a dataset.\n",
    "\n",
    "- n is the number of features in a dataset excluding label.\n",
    "\n",
    "<img style=\"float: left;\" src=\"images/02_02.png\", width=400> \n",
    "<img style=\"float: right;\" src=\"images/02_03.png\", width=400>"
   ]
  },
  {
   "cell_type": "markdown",
   "metadata": {},
   "source": [
    "#### Question ?\n",
    "- What is x<sup>(2)</sup> and y<sup>(2)</sup>?"
   ]
  },
  {
   "cell_type": "markdown",
   "metadata": {},
   "source": [
    "<br>\n",
    "<br>"
   ]
  },
  {
   "cell_type": "markdown",
   "metadata": {},
   "source": [
    "# Goal of Machine Learning algorithm\n",
    "\n",
    "- How well the algorithm will perform on unseen data. \n",
    "- Also called generalization."
   ]
  },
  {
   "cell_type": "markdown",
   "metadata": {},
   "source": [
    "# Model Representation\n",
    "\n",
    "- Model is represented by h<sub>$\\theta$</sub>(x) or simply h(x)\n",
    "\n",
    "- For Linear regression with one input variable h(x) =  $\\theta$<sub>0</sub> + $\\theta$<sub>1</sub>x\n",
    "\n",
    "<img style=\"float: left;\" src=\"images/02_01.png\">"
   ]
  },
  {
   "cell_type": "markdown",
   "metadata": {},
   "source": [
    "- $\\theta$<sub>0</sub> and $\\theta$<sub>1</sub> are called weights or parameters.\n",
    "- Need to find $\\theta$<sub>0</sub> and $\\theta$<sub>1</sub> that maximizes the performance of model."
   ]
  },
  {
   "cell_type": "markdown",
   "metadata": {},
   "source": [
    "<br>\n",
    "<br>"
   ]
  },
  {
   "cell_type": "markdown",
   "metadata": {},
   "source": [
    "# Cost Function\n",
    "\n",
    "<img style=\"float: left;\" src=\"images/02_04.png\", width=500>"
   ]
  },
  {
   "cell_type": "markdown",
   "metadata": {},
   "source": [
    "Let $\\hat{y}$ = h(x) =  $\\theta$<sub>0</sub> + $\\theta$<sub>1</sub>x\n",
    "\n",
    "Error in single sample (x,y) = $\\hat{y}$ - y = h(x) - y \n",
    "\n",
    "Cummulative error of all m samples = $\\sum_{i=1}^{m} (h(x^i) - y^i)$\n",
    "\n",
    "Finally mean error or cost function = J($\\theta$) = $\\frac{1}{2m}\\sum_{i=1}^{m} (h(x^i) - y^i)$"
   ]
  },
  {
   "cell_type": "markdown",
   "metadata": {},
   "source": [
    "# Would you have survived Titanic? "
   ]
  },
  {
   "cell_type": "code",
   "execution_count": 4,
   "metadata": {
    "collapsed": false,
    "scrolled": true
   },
   "outputs": [
    {
     "name": "stdout",
     "output_type": "stream",
     "text": [
      "[[   1.            1.           29.            0.            0.\n",
      "   211.3374939 ]\n",
      " [   1.            0.            0.91670001    1.            2.\n",
      "   151.55000305]\n",
      " [   1.            1.            2.            1.            2.\n",
      "   151.55000305]\n",
      " ..., \n",
      " [   3.            0.           26.5           0.            0.\n",
      "     7.2249999 ]\n",
      " [   3.            0.           27.            0.            0.\n",
      "     7.2249999 ]\n",
      " [   3.            0.           29.            0.            0.            7.875     ]]\n"
     ]
    }
   ],
   "source": [
    "from __future__ import print_function\n",
    "\n",
    "import numpy as np\n",
    "import tflearn\n",
    "\n",
    "# Download the Titanic dataset\n",
    "from tflearn.datasets import titanic\n",
    "titanic.download_dataset('titanic_dataset.csv')\n",
    "\n",
    "# Load CSV file, indicate that the first column represents labels\n",
    "from tflearn.data_utils import load_csv\n",
    "data, labels = load_csv('titanic_dataset.csv', target_column=0,\n",
    "                        categorical_labels=True, n_classes=2)\n",
    "\n",
    "\n",
    "# Preprocessing function\n",
    "def preprocess(data, columns_to_ignore):\n",
    "    # Sort by descending id and delete columns\n",
    "    for id in sorted(columns_to_ignore, reverse=True):\n",
    "        [r.pop(id) for r in data]\n",
    "    for i in range(len(data)):\n",
    "      # Converting 'sex' field to float (id is 1 after removing labels column)\n",
    "      data[i][1] = 1. if data[i][1] == 'female' else 0.\n",
    "    return np.array(data, dtype=np.float32)\n",
    "\n",
    "# Ignore 'name' and 'ticket' columns (id 1 & 6 of data array)\n",
    "to_ignore=[1, 6]\n",
    "\n",
    "# Preprocess data\n",
    "data = preprocess(data, to_ignore)\n",
    "\n",
    "print (data)"
   ]
  },
  {
   "cell_type": "code",
   "execution_count": 2,
   "metadata": {
    "collapsed": false
   },
   "outputs": [
    {
     "name": "stdout",
     "output_type": "stream",
     "text": [
      "Training Step: 819  | total loss: \u001b[1m\u001b[32m0.50917\u001b[0m\u001b[0m | time: 0.347s\n",
      "| Adam | epoch: 010 | loss: 0.50917 - acc: 0.7704 -- iter: 1296/1309\n",
      "Training Step: 820  | total loss: \u001b[1m\u001b[32m0.49590\u001b[0m\u001b[0m | time: 0.349s\n",
      "| Adam | epoch: 010 | loss: 0.49590 - acc: 0.7746 -- iter: 1309/1309\n",
      "--\n"
     ]
    }
   ],
   "source": [
    "# Build neural network\n",
    "net = tflearn.input_data(shape=[None, 6])\n",
    "net = tflearn.fully_connected(net, 32)\n",
    "net = tflearn.fully_connected(net, 32)\n",
    "net = tflearn.fully_connected(net, 2, activation='softmax')\n",
    "net = tflearn.regression(net)\n",
    "\n",
    "# Define model\n",
    "model = tflearn.DNN(net)\n",
    "# Start training (apply gradient descent algorithm)\n",
    "model.fit(data, labels, n_epoch=10, batch_size=16, show_metric=True)"
   ]
  },
  {
   "cell_type": "code",
   "execution_count": 3,
   "metadata": {
    "collapsed": false
   },
   "outputs": [
    {
     "name": "stdout",
     "output_type": "stream",
     "text": [
      "DiCaprio Surviving Rate: 0.09548981487751007\n",
      "Winslet Surviving Rate: 0.8807896375656128\n",
      "user Surviving Rate: 0.7699385285377502\n"
     ]
    }
   ],
   "source": [
    "# Let's create some data for DiCaprio and Winslet\n",
    "dicaprio = [3, 'Jack Dawson', 'male', 19, 0, 0, 'N/A', 5.0000]\n",
    "winslet = [1, 'Rose DeWitt Bukater', 'female', 17, 1, 2, 'N/A', 100.0000]\n",
    "user = [2, 'user', 'female', 20, 0, 2, 'N/A', 50.0000]\n",
    "# Preprocess data\n",
    "dicaprio, winslet, user = preprocess([dicaprio, winslet, user], to_ignore)\n",
    "# Predict surviving chances (class 1 results)\n",
    "pred = model.predict([dicaprio, winslet, user])\n",
    "print(\"DiCaprio Surviving Rate:\", pred[0][1])\n",
    "print(\"Winslet Surviving Rate:\", pred[1][1])\n",
    "print(\"user Surviving Rate:\", pred[2][1])"
   ]
  },
  {
   "cell_type": "markdown",
   "metadata": {},
   "source": [
    "# Applications"
   ]
  },
  {
   "cell_type": "markdown",
   "metadata": {},
   "source": [
    "* ## Algrithm that plays Atari breakout"
   ]
  },
  {
   "cell_type": "code",
   "execution_count": 9,
   "metadata": {
    "collapsed": false,
    "scrolled": true
   },
   "outputs": [
    {
     "data": {
      "image/jpeg": "[encoded data removed]",
      "text/html": [
       "\n",
       "        <iframe\n",
       "            width=\"400\"\n",
       "            height=\"300\"\n",
       "            src=\"https://www.youtube.com/embed/V1eYniJ0Rnk\"\n",
       "            frameborder=\"0\"\n",
       "            allowfullscreen\n",
       "        ></iframe>\n",
       "        "
      ],
      "text/plain": [
       "<IPython.lib.display.YouTubeVideo at 0x7f77fc31cb38>"
      ]
     },
     "execution_count": 9,
     "metadata": {},
     "output_type": "execute_result"
    }
   ],
   "source": [
    "from IPython.display import YouTubeVideo\n",
    "YouTubeVideo(\"V1eYniJ0Rnk\")"
   ]
  },
  {
   "cell_type": "markdown",
   "metadata": {
    "collapsed": true
   },
   "source": [
    "* ## Machine Learning algorithm is better than human at object recognition"
   ]
  },
  {
   "cell_type": "markdown",
   "metadata": {},
   "source": [
    "<br>\n",
    "<br>"
   ]
  },
  {
   "cell_type": "markdown",
   "metadata": {},
   "source": [
    "# Summary\n",
    "Machine learning is at the heart of all technologies today."
   ]
  },
  {
   "cell_type": "markdown",
   "metadata": {},
   "source": [
    "# Resouces\n",
    "\n",
    "Course website: [https://w4zir.github.io/ml17s/](https://w4zir.github.io/ml17s/)\n",
    "\n",
    "[Course resources](https://github.com/w4zir/ml17s)"
   ]
  },
  {
   "cell_type": "markdown",
   "metadata": {},
   "source": [
    "# Credits\n",
    "Raschka, Sebastian. Python machine learning. Birmingham, UK: Packt Publishing, 2015. Print."
   ]
  }
 ],
 "metadata": {
  "anaconda-cloud": {},
  "kernelspec": {
   "display_name": "Python 3",
   "language": "python",
   "name": "python3"
  },
  "language_info": {
   "codemirror_mode": {
    "name": "ipython",
    "version": 3
   },
   "file_extension": ".py",
   "mimetype": "text/x-python",
   "name": "python",
   "nbconvert_exporter": "python",
   "pygments_lexer": "ipython3",
   "version": "3.6.0"
  }
 },
 "nbformat": 4,
 "nbformat_minor": 0
}
