{
 "cells": [
  {
   "cell_type": "markdown",
   "metadata": {
    "slideshow": {
     "slide_type": "slide"
    }
   },
   "source": [
    "# CSAL4243: Introduction to Machine Learning\n",
    "Muhammad Mudassir Khan (mudasssir.khan@ucp.edu.pk)"
   ]
  },
  {
   "cell_type": "markdown",
   "metadata": {
    "slideshow": {
     "slide_type": "slide"
    }
   },
   "source": [
    "# Lecture 5: Multivariate Regression"
   ]
  },
  {
   "cell_type": "markdown",
   "metadata": {
    "slideshow": {
     "slide_type": "fragment"
    }
   },
   "source": [
    "### Overview"
   ]
  },
  {
   "cell_type": "markdown",
   "metadata": {
    "collapsed": true,
    "slideshow": {
     "slide_type": "fragment"
    }
   },
   "source": [
    "- [Machine Learning pipeline](#Machine-Learning-pipeline)\n",
    "- [Linear Regression with one variable](#Linear-Regression-with-one-variable)\n",
    "    - [Model Representation](#Model-Representation)\n",
    "    - [Vectorize Model](#Vectorize-Model)\n",
    "- [Linear Regression with multiple variables](#Linear-Regression-with-multiple-variables)\n",
    "    - [Cost Function](#Cost-Function)\n",
    "    - [Gradient Descent](#Gradient-Descent)\n",
    "- [Speed up gradient descent](#Speed-up-gradient-descent)\n",
    "    - [Feature Scaling](#Feature-Scaling)\n",
    "    - [Mean Normalization](#Mean-Normalization)\n",
    "    - [Combining Both](#Combining-Both)\n",
    "    - [Learning Rate $\\alpha$](#Learning-Rate-$\\alpha$)\n",
    "    - [Automatic Covergence Test](#Automatic-Covergence-Test)\n",
    "- [Linear Regression with Multiple Variables Example](#Linear-Regression-with-Multiple-Variables-Example)\n",
    "    - [Read data](#Read-data)\n",
    "    - [Feature Scaling and Mean Normalization](#Feature-Scaling-and-Mean-Normalization)\n",
    "    - [Initialize Hyper Parameters](#Initialize Hyper Parameters)\n",
    "    - [Model/Hypothesis Function](#Model/Hypothesis-Function)\n",
    "    - [Cost Function](#Cost-Function)\n",
    "    - [Gradient Descent](#Gradient-Descent)\n",
    "    - [Run Gradient Descent](#Run-Gradient-Descent)\n",
    "    - [Plot Convergence](#Plot-Convergence)\n",
    "    - [Predict output using trained model](#Predict-output-using-trained-model)\n",
    "- [Resources](#Resources)\n",
    "- [Credits](#Credits)"
   ]
  },
  {
   "cell_type": "markdown",
   "metadata": {},
   "source": [
    "<br>\n",
    "<br>"
   ]
  },
  {
   "cell_type": "markdown",
   "metadata": {},
   "source": [
    "# Classification vs Regression\n",
    "\n",
    "<img style=\"float: left;\" src=\"images/05_05.jpg\" width=300> <img style=\"float: center;\" src=\"images/05_04.png\" width=400>"
   ]
  },
  {
   "cell_type": "markdown",
   "metadata": {},
   "source": [
    "<br>"
   ]
  },
  {
   "cell_type": "markdown",
   "metadata": {
    "slideshow": {
     "slide_type": "slide"
    }
   },
   "source": [
    "# Machine Learning pipeline"
   ]
  },
  {
   "cell_type": "markdown",
   "metadata": {
    "slideshow": {
     "slide_type": "fragment"
    }
   },
   "source": [
    "<img style=\"float: left;\" src=\"images/model.png\">"
   ]
  },
  {
   "cell_type": "markdown",
   "metadata": {
    "slideshow": {
     "slide_type": "fragment"
    }
   },
   "source": [
    "- x is called input variables or input features.\n",
    "\n",
    "- y is called output or target variable. Also sometimes known as label.\n",
    "\n",
    "- h is called hypothesis or model. \n",
    "\n",
    "- pair (x<sup>(i)</sup>,y<sup>(i)</sup>) is called a sample or training example\n",
    "\n",
    "- dataset of all training examples is called training set.\n",
    "\n",
    "- m is the number of samples in a dataset.\n",
    "\n",
    "- n is the number of features in a dataset excluding label."
   ]
  },
  {
   "cell_type": "markdown",
   "metadata": {
    "slideshow": {
     "slide_type": "fragment"
    }
   },
   "source": [
    "<img style=\"float: left;\" src=\"images/02_02.png\", width=400> "
   ]
  },
  {
   "cell_type": "markdown",
   "metadata": {},
   "source": [
    "<br>\n",
    "<br>"
   ]
  },
  {
   "cell_type": "markdown",
   "metadata": {
    "slideshow": {
     "slide_type": "slide"
    }
   },
   "source": [
    "# Linear Regression with one variable"
   ]
  },
  {
   "cell_type": "markdown",
   "metadata": {
    "slideshow": {
     "slide_type": "fragment"
    }
   },
   "source": [
    "## Model Representation\n",
    "\n",
    "- Model is represented by h<sub>$\\theta$</sub>(x) or simply h(x)\n",
    "\n",
    "- For Linear regression with one input variable h(x) =  $\\theta$<sub>0</sub> + $\\theta$<sub>1</sub>x\n",
    "\n",
    "<img style=\"float: left;\" src=\"images/02_01.png\">"
   ]
  },
  {
   "cell_type": "markdown",
   "metadata": {
    "slideshow": {
     "slide_type": "fragment"
    }
   },
   "source": [
    "- $\\theta$<sub>0</sub> and $\\theta$<sub>1</sub> are called weights or parameters.\n",
    "- Need to find $\\theta$<sub>0</sub> and $\\theta$<sub>1</sub> that maximizes the performance of model."
   ]
  },
  {
   "cell_type": "markdown",
   "metadata": {},
   "source": [
    "<br>\n",
    "## Vectorize Model\n",
    "\n",
    "<img style=\"float: right;\" src=\"images/02_02.png\"  width=300>\n",
    "\n",
    "- Write model in form of matrix multiplication\n",
    "- $h(x)$ = $X \\times \\theta$\n",
    "    - $X$ and $\\theta$ are both matrices\n",
    "    - $X = \\left[ \\begin{array}{cc}\n",
    "x_1 \\\\\n",
    "x_2 \\\\\n",
    "x_3 \\\\\n",
    "... \\\\\n",
    "x_{m}\n",
    "\\end{array} \\right]$\n",
    "   \n",
    "\n",
    "- $h(x)$ = $\\theta_0 + \\theta_1 x$ \n",
    "    = $X \\times \\theta$ = $\\left[ \\begin{array}{cc}\n",
    "1 & x_i\n",
    "\\end{array} \\right] \\times \\left[ \\begin{array}{cc}\n",
    "\\theta_0 \\\\\n",
    "\\theta_1\n",
    "\\end{array} \\right]$\n",
    "\n",
    "\n",
    "- $h(x)$ = $\\left[ \\begin{array}{cc}\n",
    "\\theta_0 + \\theta_1 x_1 \\\\\n",
    "\\theta_0 + \\theta_1 x_2 \\\\\n",
    "\\theta_0 + \\theta_1 x_3 \\\\\n",
    "... \\\\\n",
    "\\theta_0 + \\theta_1 x_{m} \n",
    "\\end{array} \\right] = \\left[ \\begin{array}{cc}\n",
    "1 & x_1 \\\\\n",
    "1 & x_2 \\\\\n",
    "1 & x_3 \\\\\n",
    "... \\\\\n",
    "1 & x_{m}\n",
    "\\end{array} \\right] \\times \\left[ \\begin{array}{cc}\n",
    "\\theta_0 \\\\\n",
    "\\theta_1\n",
    "\\end{array} \\right]$\n",
    "\n",
    "\n",
    "- In given dataset $X$ has dimensions $m \\times 1$ because of 1 variable \n",
    "- $\\theta$ has dimension $2\\times 1$\n",
    "- Append a column vector of all 1's to X\n",
    "- New X has dimensions $m\\times 2$\n",
    "- $h(x) = X \\times \\theta$ has dimensions $m\\times 1$"
   ]
  },
  {
   "cell_type": "markdown",
   "metadata": {},
   "source": [
    "<br>\n",
    "# Linear Regression with multiple variables\n",
    "\n",
    "<img style=\"float: right;\" src=\"images/02_03.png\"  width=300>\n",
    "\n",
    "- Model $h(x) = \\theta_0 + \\theta_1 x_1 + \\theta_2 x_2 .... + \\theta_n x_n$\n",
    "\n",
    "\n",
    "- Dimensions of $X$ is $m\\times n$\n",
    "\n",
    "    $X = \\left[ \\begin{array}{cc}\n",
    "x_1^1 & x_1^2 & .. & x_1^{n}  \\\\\n",
    "x_2^1 & x_2^2 & .. & x_2^{n} \\\\\n",
    "x_3^1 & x_3^2 & .. & x_3^{n} \\\\\n",
    "... \\\\\n",
    "x_{m}^1 & x_{m}^2 & .. & x_{m}^{n}\n",
    "\\end{array} \\right]$\n",
    "\n",
    "\n",
    "- $\\theta$ has dimension $(n+1)\\times 1$\n",
    "\n",
    "    $\\theta = \\left[ \\begin{array}{cc}\n",
    "\\theta_0 \\\\\n",
    "\\theta_1 \\\\\n",
    "\\theta_2 \\\\\n",
    "... \\\\\n",
    "\\theta_{n} \\\\\n",
    "\\end{array} \\right]$\n",
    "\n",
    "<br>\n",
    "- Append a column vector of all 1's to X\n",
    "- Now X has dimensions $m\\times (n+1)$\n",
    "\n",
    "    $X = \\left[ \\begin{array}{cc}\n",
    "1 & x_1^1 & x_1^2 & .. & x_1^{n}  \\\\\n",
    "1 & x_2^1 & x_2^2 & .. & x_2^{n} \\\\\n",
    "1 & x_3^1 & x_3^2 & .. & x_3^{n} \\\\\n",
    "... \\\\\n",
    "1 & x_{m}^1 & x_{m}^2 & .. & x_{m}^{n}\n",
    "\\end{array} \\right]$\n",
    "\n",
    "\n",
    "- where $x_i$ is $i^{th}$ sample, e.g. \n",
    "   $x_2 = [ \\begin{array}{cc} 4.9 & 3.0 & 1.4 & 0.2 \\end{array}]$\n",
    "    \n",
    "- and $x_i^{j}$ is value of feature $j$ in the $i^{th}$ training example e.g. $x_2^3=1.4$\n",
    "\n",
    "\n",
    "- $h(x) = X \\times \\theta$ has dimensions $m\\times 1$"
   ]
  },
  {
   "cell_type": "markdown",
   "metadata": {},
   "source": [
    "<br>"
   ]
  },
  {
   "cell_type": "markdown",
   "metadata": {},
   "source": [
    "<br>\n",
    "<br>"
   ]
  },
  {
   "cell_type": "markdown",
   "metadata": {
    "slideshow": {
     "slide_type": "slide"
    }
   },
   "source": [
    "## Cost Function"
   ]
  },
  {
   "cell_type": "markdown",
   "metadata": {
    "slideshow": {
     "slide_type": "fragment"
    }
   },
   "source": [
    "\n",
    "\n",
    "Cost function = J($\\theta$) = $\\frac{1}{2m}\\sum_{i=1}^{m} (h(x^i) - y^i)^2$\n",
    "\n",
    "where $h(x) = \\theta_0 + \\theta_1 x_1 + \\theta_2 x_2 .... + \\theta_n x_n$\n",
    "\n",
    "<img style=\"float: center;\" src=\"images/03_02.png\", width=300>"
   ]
  },
  {
   "cell_type": "markdown",
   "metadata": {},
   "source": [
    "<br>\n",
    "<br>"
   ]
  },
  {
   "cell_type": "markdown",
   "metadata": {},
   "source": [
    "## Gradient Descent"
   ]
  },
  {
   "cell_type": "markdown",
   "metadata": {},
   "source": [
    "\n",
    "Cost function:\n",
    "\n",
    "J($\\theta$) = $\\frac{1}{2m}\\sum_{i=1}^{m} (h(x^i) - y^i)^2$\n",
    "\n",
    "Gradient descent equation:\n",
    "\n",
    "$\\theta_j := \\theta_j - \\alpha \\frac{\\partial}{\\partial \\theta_j} J(\\theta_0, \\theta_1)$"
   ]
  },
  {
   "cell_type": "markdown",
   "metadata": {},
   "source": [
    "<br>\n",
    "Replacing J($\\theta$) for each j\n",
    "\n",
    "\n",
    "$\\begin{align*} & \\text{repeat until convergence:} \\; \\lbrace \\newline \\; & \\theta_0 := \\theta_0 - \\alpha \\frac{1}{m} \\sum\\limits_{i=1}^{m} (h_\\theta(x_{i}) - y_{i}) \\cdot x^0_{i}\\newline \\; & \\theta_1 := \\theta_1 - \\alpha \\frac{1}{m} \\sum\\limits_{i=1}^{m} (h_\\theta(x_{i}) - y_{i}) \\cdot x^1_{i} \\newline \\; & \\theta_2 := \\theta_2 - \\alpha \\frac{1}{m} \\sum\\limits_{i=1}^{m} (h_\\theta(x_{i}) - y_{i}) \\cdot x^2_{i} \\newline & \\cdots \\newline \\rbrace \\end{align*}$\n",
    "\n",
    "<br>\n",
    "\n",
    "or more generally\n",
    "\n",
    "\n",
    "\n",
    "$\\begin{align*}& \\text{repeat until convergence:} \\; \\lbrace \\newline \\; & \\theta_j := \\theta_j - \\alpha \\frac{1}{m} \\sum\\limits_{i=1}^{m} (h_\\theta(x_{i}) - y_{i}) \\cdot x^j_{i} \\; & \\text{for j := 0...n}\\newline \\rbrace\\end{align*}$\n",
    "\n",
    "---"
   ]
  },
  {
   "cell_type": "markdown",
   "metadata": {},
   "source": [
    "<br>\n",
    "<img style=\"float: left;\" src=\"images/03_04.gif\">"
   ]
  },
  {
   "cell_type": "markdown",
   "metadata": {},
   "source": [
    "# Speed up gradient descent\n",
    "\n",
    "- Tricks to make gradient descent converge faster to optimal value\n",
    "\n",
    "\n",
    "\n",
    "- Each of our input values in roughly the same range.\n",
    "- $\\theta$ will descend quickly on small ranges and slowly on large ranges.\n",
    "- $\\theta$ Will oscillate inefficiently down to the optimum when the variables are very uneven.\n",
    "\n",
    "\n",
    "Aim is to have:\n",
    "\n",
    "\n",
    "$-1 \\le x^i \\le 1$\n",
    "\n",
    "or\n",
    "\n",
    "$-0.5 \\le x^i \\le 0.5$"
   ]
  },
  {
   "cell_type": "markdown",
   "metadata": {},
   "source": [
    "<br>\n",
    "## Feature Scaling\n",
    "\n",
    "- Divide the values of a feature by its range\n",
    "\n",
    "$x^i = \\frac{x^i}{\\max(x^i) - \\min(x^i)}$ \n",
    "\n",
    "\n",
    "<img style=\"float: center;\" src=\"images/05_06.png\">"
   ]
  },
  {
   "cell_type": "markdown",
   "metadata": {},
   "source": [
    "## Mean Normalization\n",
    "\n",
    "- Bring mean of each feature to zero\n",
    "\n",
    "$x^i = x^i - \\mu^i$\n",
    "\n",
    "where $\\mu^i$ is the mean of feature $i$\n"
   ]
  },
  {
   "cell_type": "markdown",
   "metadata": {},
   "source": [
    "## Combining both \n",
    "\n",
    "$x^i = \\frac{x^i - \\mu^i}{\\max(x^i) - \\min(x^i)}$\n",
    "\n",
    "\n",
    "or\n",
    "\n",
    "\n",
    "$x^i = \\frac{x^i - \\mu^i}{\\rho^i}$\n",
    "\n",
    "where $\\rho^i$ is standard deviation of feature $i$"
   ]
  },
  {
   "cell_type": "markdown",
   "metadata": {},
   "source": [
    "<br>\n",
    "## Learning Rate $\\alpha$\n",
    "\n",
    "- Appropriate $\\alpha$ value will speed up gradient descent.\n",
    "- If $\\alpha$ is too small: slow convergence.\n",
    "- If $\\alpha$ is too large: ￼may not decrease on every iteration and thus may not converge.\n",
    "\n",
    "<img src=\"images/05_01.png\">\n",
    "\n",
    "\n",
    "- For implementation purpose, try out different values of $\\alpha$ e.g. 0.001, 0.003, 0.01, 0.03, 0.1 and plot $J(\\theta)$ with respect to iterations.\n",
    "- Choose the one the makes gradient descent coverge quickly."
   ]
  },
  {
   "cell_type": "markdown",
   "metadata": {},
   "source": [
    "<br>\n",
    "## Automatic Covergence Test\n",
    "\n",
    "- Plot $J(\\theta)$ vs iterations. \n",
    "- $J(\\theta)$ should descrease on each iteration.\n",
    "- If $J(\\theta)$ decrease by a very small value in an iteration, you may have reached optimal value.\n",
    "\n",
    "<img style=\"float: left;\" src=\"images/05_02.png\">"
   ]
  },
  {
   "cell_type": "markdown",
   "metadata": {},
   "source": [
    "<br>\n",
    "<br>"
   ]
  },
  {
   "cell_type": "markdown",
   "metadata": {
    "slideshow": {
     "slide_type": "slide"
    }
   },
   "source": [
    "# Linear Regression with Multiple Variables Example"
   ]
  },
  {
   "cell_type": "markdown",
   "metadata": {
    "slideshow": {
     "slide_type": "subslide"
    }
   },
   "source": [
    "## Read data"
   ]
  },
  {
   "cell_type": "code",
   "execution_count": 141,
   "metadata": {
    "collapsed": false,
    "scrolled": true,
    "slideshow": {
     "slide_type": "fragment"
    }
   },
   "outputs": [],
   "source": [
    "%matplotlib inline\n",
    "import pandas as pd\n",
    "import numpy as np\n",
    "from sklearn import linear_model\n",
    "import matplotlib.pyplot as plt\n",
    "import matplotlib as mpl\n",
    "\n",
    "# read data in pandas frame\n",
    "dataframe = pd.read_csv('datasets/house_dataset2.csv', encoding='utf-8')\n"
   ]
  },
  {
   "cell_type": "code",
   "execution_count": 142,
   "metadata": {
    "collapsed": false,
    "slideshow": {
     "slide_type": "fragment"
    }
   },
   "outputs": [
    {
     "data": {
      "text/html": [
       "<div>\n",
       "<table border=\"1\" class=\"dataframe\">\n",
       "  <thead>\n",
       "    <tr style=\"text-align: right;\">\n",
       "      <th></th>\n",
       "      <th>size</th>\n",
       "      <th>bedrooms</th>\n",
       "      <th>price</th>\n",
       "    </tr>\n",
       "  </thead>\n",
       "  <tbody>\n",
       "    <tr>\n",
       "      <th>0</th>\n",
       "      <td>2104</td>\n",
       "      <td>3</td>\n",
       "      <td>399900</td>\n",
       "    </tr>\n",
       "    <tr>\n",
       "      <th>1</th>\n",
       "      <td>1600</td>\n",
       "      <td>3</td>\n",
       "      <td>329900</td>\n",
       "    </tr>\n",
       "    <tr>\n",
       "      <th>2</th>\n",
       "      <td>2400</td>\n",
       "      <td>3</td>\n",
       "      <td>369000</td>\n",
       "    </tr>\n",
       "    <tr>\n",
       "      <th>3</th>\n",
       "      <td>1416</td>\n",
       "      <td>2</td>\n",
       "      <td>232000</td>\n",
       "    </tr>\n",
       "    <tr>\n",
       "      <th>4</th>\n",
       "      <td>3000</td>\n",
       "      <td>4</td>\n",
       "      <td>539900</td>\n",
       "    </tr>\n",
       "  </tbody>\n",
       "</table>\n",
       "</div>"
      ],
      "text/plain": [
       "   size  bedrooms   price\n",
       "0  2104         3  399900\n",
       "1  1600         3  329900\n",
       "2  2400         3  369000\n",
       "3  1416         2  232000\n",
       "4  3000         4  539900"
      ]
     },
     "execution_count": 142,
     "metadata": {},
     "output_type": "execute_result"
    }
   ],
   "source": [
    "# check data by printing first few rows\n",
    "dataframe.head()"
   ]
  },
  {
   "cell_type": "code",
   "execution_count": 143,
   "metadata": {
    "collapsed": false
   },
   "outputs": [
    {
     "data": {
      "image/png": "[encoded data removed]",
      "text/plain": [
       "<matplotlib.figure.Figure at 0x7efdfc63e128>"
      ]
     },
     "metadata": {},
     "output_type": "display_data"
    }
   ],
   "source": [
    "from mpl_toolkits.mplot3d import Axes3D\n",
    "fig = plt.figure()\n",
    "fig.set_size_inches(12.5, 7.5)\n",
    "ax = fig.add_subplot(111, projection='3d')\n",
    "\n",
    "ax.scatter(xs=dataframe['size'], ys=dataframe['bedrooms'], zs=dataframe['price'])\n",
    "\n",
    "ax.set_ylabel('bedrooms'); ax.set_xlabel('size'); ax.set_zlabel('price')\n",
    "# ax.view_init(10, -45)\n",
    "plt.show()"
   ]
  },
  {
   "cell_type": "markdown",
   "metadata": {
    "slideshow": {
     "slide_type": "subslide"
    }
   },
   "source": [
    "## Feature Scaling and Mean Normalization"
   ]
  },
  {
   "cell_type": "code",
   "execution_count": 144,
   "metadata": {
    "collapsed": false,
    "scrolled": true
   },
   "outputs": [
    {
     "data": {
      "text/html": [
       "<div>\n",
       "<table border=\"1\" class=\"dataframe\">\n",
       "  <thead>\n",
       "    <tr style=\"text-align: right;\">\n",
       "      <th></th>\n",
       "      <th>size</th>\n",
       "      <th>bedrooms</th>\n",
       "      <th>price</th>\n",
       "    </tr>\n",
       "  </thead>\n",
       "  <tbody>\n",
       "    <tr>\n",
       "      <th>count</th>\n",
       "      <td>47.000000</td>\n",
       "      <td>47.000000</td>\n",
       "      <td>47.000000</td>\n",
       "    </tr>\n",
       "    <tr>\n",
       "      <th>mean</th>\n",
       "      <td>2000.680851</td>\n",
       "      <td>3.170213</td>\n",
       "      <td>340412.659574</td>\n",
       "    </tr>\n",
       "    <tr>\n",
       "      <th>std</th>\n",
       "      <td>794.702354</td>\n",
       "      <td>0.760982</td>\n",
       "      <td>125039.899586</td>\n",
       "    </tr>\n",
       "    <tr>\n",
       "      <th>min</th>\n",
       "      <td>852.000000</td>\n",
       "      <td>1.000000</td>\n",
       "      <td>169900.000000</td>\n",
       "    </tr>\n",
       "    <tr>\n",
       "      <th>25%</th>\n",
       "      <td>1432.000000</td>\n",
       "      <td>3.000000</td>\n",
       "      <td>249900.000000</td>\n",
       "    </tr>\n",
       "    <tr>\n",
       "      <th>50%</th>\n",
       "      <td>1888.000000</td>\n",
       "      <td>3.000000</td>\n",
       "      <td>299900.000000</td>\n",
       "    </tr>\n",
       "    <tr>\n",
       "      <th>75%</th>\n",
       "      <td>2269.000000</td>\n",
       "      <td>4.000000</td>\n",
       "      <td>384450.000000</td>\n",
       "    </tr>\n",
       "    <tr>\n",
       "      <th>max</th>\n",
       "      <td>4478.000000</td>\n",
       "      <td>5.000000</td>\n",
       "      <td>699900.000000</td>\n",
       "    </tr>\n",
       "  </tbody>\n",
       "</table>\n",
       "</div>"
      ],
      "text/plain": [
       "              size   bedrooms          price\n",
       "count    47.000000  47.000000      47.000000\n",
       "mean   2000.680851   3.170213  340412.659574\n",
       "std     794.702354   0.760982  125039.899586\n",
       "min     852.000000   1.000000  169900.000000\n",
       "25%    1432.000000   3.000000  249900.000000\n",
       "50%    1888.000000   3.000000  299900.000000\n",
       "75%    2269.000000   4.000000  384450.000000\n",
       "max    4478.000000   5.000000  699900.000000"
      ]
     },
     "execution_count": 144,
     "metadata": {},
     "output_type": "execute_result"
    }
   ],
   "source": [
    "dataframe.describe()"
   ]
  },
  {
   "cell_type": "code",
   "execution_count": 145,
   "metadata": {
    "collapsed": false,
    "scrolled": false,
    "slideshow": {
     "slide_type": "fragment"
    }
   },
   "outputs": [
    {
     "data": {
      "image/png": "[encoded data removed]",
      "text/plain": [
       "<matplotlib.figure.Figure at 0x7efdf7f29e48>"
      ]
     },
     "metadata": {},
     "output_type": "display_data"
    }
   ],
   "source": [
    "#Quick visualize data\n",
    "plt.grid(True)\n",
    "plt.xlim([-1,5000])\n",
    "dummy = plt.hist(dataframe[\"size\"],label = 'Size')\n",
    "dummy = plt.hist(dataframe[\"bedrooms\"],label = 'Bedrooms')\n",
    "plt.title('Clearly we need feature normalization.')\n",
    "plt.xlabel('Column Value')\n",
    "plt.ylabel('Counts')\n",
    "dummy = plt.legend()"
   ]
  },
  {
   "cell_type": "code",
   "execution_count": 146,
   "metadata": {
    "collapsed": true
   },
   "outputs": [],
   "source": [
    "mean_size   = dataframe[\"size\"].mean()\n",
    "std_size       = dataframe[\"size\"].std()\n",
    "mean_bed   = dataframe[\"bedrooms\"].mean()\n",
    "std_bed       = dataframe[\"bedrooms\"].std()"
   ]
  },
  {
   "cell_type": "code",
   "execution_count": 147,
   "metadata": {
    "collapsed": true
   },
   "outputs": [],
   "source": [
    "dataframe[\"size\"] = (dataframe[\"size\"] - mean_size)/std_size\n"
   ]
  },
  {
   "cell_type": "code",
   "execution_count": 148,
   "metadata": {
    "collapsed": true
   },
   "outputs": [],
   "source": [
    "dataframe[\"bedrooms\"] = (dataframe[\"bedrooms\"] - mean_bed)/std_bed"
   ]
  },
  {
   "cell_type": "code",
   "execution_count": 149,
   "metadata": {
    "collapsed": false
   },
   "outputs": [
    {
     "data": {
      "text/html": [
       "<div>\n",
       "<table border=\"1\" class=\"dataframe\">\n",
       "  <thead>\n",
       "    <tr style=\"text-align: right;\">\n",
       "      <th></th>\n",
       "      <th>size</th>\n",
       "      <th>bedrooms</th>\n",
       "      <th>price</th>\n",
       "    </tr>\n",
       "  </thead>\n",
       "  <tbody>\n",
       "    <tr>\n",
       "      <th>count</th>\n",
       "      <td>4.700000e+01</td>\n",
       "      <td>4.700000e+01</td>\n",
       "      <td>47.000000</td>\n",
       "    </tr>\n",
       "    <tr>\n",
       "      <th>mean</th>\n",
       "      <td>3.779483e-17</td>\n",
       "      <td>2.746030e-16</td>\n",
       "      <td>340412.659574</td>\n",
       "    </tr>\n",
       "    <tr>\n",
       "      <th>std</th>\n",
       "      <td>1.000000e+00</td>\n",
       "      <td>1.000000e+00</td>\n",
       "      <td>125039.899586</td>\n",
       "    </tr>\n",
       "    <tr>\n",
       "      <th>min</th>\n",
       "      <td>-1.445423e+00</td>\n",
       "      <td>-2.851859e+00</td>\n",
       "      <td>169900.000000</td>\n",
       "    </tr>\n",
       "    <tr>\n",
       "      <th>25%</th>\n",
       "      <td>-7.155897e-01</td>\n",
       "      <td>-2.236752e-01</td>\n",
       "      <td>249900.000000</td>\n",
       "    </tr>\n",
       "    <tr>\n",
       "      <th>50%</th>\n",
       "      <td>-1.417900e-01</td>\n",
       "      <td>-2.236752e-01</td>\n",
       "      <td>299900.000000</td>\n",
       "    </tr>\n",
       "    <tr>\n",
       "      <th>75%</th>\n",
       "      <td>3.376348e-01</td>\n",
       "      <td>1.090417e+00</td>\n",
       "      <td>384450.000000</td>\n",
       "    </tr>\n",
       "    <tr>\n",
       "      <th>max</th>\n",
       "      <td>3.117292e+00</td>\n",
       "      <td>2.404508e+00</td>\n",
       "      <td>699900.000000</td>\n",
       "    </tr>\n",
       "  </tbody>\n",
       "</table>\n",
       "</div>"
      ],
      "text/plain": [
       "               size      bedrooms          price\n",
       "count  4.700000e+01  4.700000e+01      47.000000\n",
       "mean   3.779483e-17  2.746030e-16  340412.659574\n",
       "std    1.000000e+00  1.000000e+00  125039.899586\n",
       "min   -1.445423e+00 -2.851859e+00  169900.000000\n",
       "25%   -7.155897e-01 -2.236752e-01  249900.000000\n",
       "50%   -1.417900e-01 -2.236752e-01  299900.000000\n",
       "75%    3.376348e-01  1.090417e+00  384450.000000\n",
       "max    3.117292e+00  2.404508e+00  699900.000000"
      ]
     },
     "execution_count": 149,
     "metadata": {},
     "output_type": "execute_result"
    }
   ],
   "source": [
    "dataframe.describe()"
   ]
  },
  {
   "cell_type": "code",
   "execution_count": 150,
   "metadata": {
    "collapsed": false
   },
   "outputs": [
    {
     "data": {
      "image/png": "[encoded data removed]",
      "text/plain": [
       "<matplotlib.figure.Figure at 0x7efdf7f29908>"
      ]
     },
     "metadata": {},
     "output_type": "display_data"
    }
   ],
   "source": [
    "# reassign X\n",
    "# assign X\n",
    "X = np.array(dataframe[['size','bedrooms']])\n",
    "X = np.insert(X,0,1,axis=1)\n",
    "\n",
    "#Quick visualize data\n",
    "plt.grid(True)\n",
    "plt.xlim([-5,5])\n",
    "dummy = plt.hist(dataframe[\"size\"],label = 'Size')\n",
    "dummy = plt.hist(dataframe[\"bedrooms\"],label = 'Bedrooms')\n",
    "plt.title('Feature scaled and normalization.')\n",
    "plt.xlabel('Column Value')\n",
    "plt.ylabel('Counts')\n",
    "dummy = plt.legend()"
   ]
  },
  {
   "cell_type": "code",
   "execution_count": 151,
   "metadata": {
    "collapsed": false
   },
   "outputs": [],
   "source": [
    "# assign X and y\n",
    "X = np.array(dataframe[['size','bedrooms']])\n",
    "y = np.array(dataframe[['price']])\n",
    "\n",
    "m = y.size # number of training examples\n",
    "\n",
    "# insert all 1's column for theta_0\n",
    "X = np.insert(X,0,1,axis=1)\n",
    "\n",
    "# initialize theta\n",
    "# initial_theta = np.zeros((X.shape[1],1))\n",
    "initial_theta = np.random.rand(X.shape[1],1)"
   ]
  },
  {
   "cell_type": "code",
   "execution_count": 152,
   "metadata": {
    "collapsed": false
   },
   "outputs": [
    {
     "data": {
      "text/plain": [
       "array([[ 0.71242907],\n",
       "       [ 0.87930663],\n",
       "       [ 0.73918403]])"
      ]
     },
     "execution_count": 152,
     "metadata": {},
     "output_type": "execute_result"
    }
   ],
   "source": [
    "initial_theta"
   ]
  },
  {
   "cell_type": "code",
   "execution_count": 153,
   "metadata": {
    "collapsed": false
   },
   "outputs": [
    {
     "data": {
      "text/plain": [
       "(47, 3)"
      ]
     },
     "execution_count": 153,
     "metadata": {},
     "output_type": "execute_result"
    }
   ],
   "source": [
    "X.shape"
   ]
  },
  {
   "cell_type": "code",
   "execution_count": 154,
   "metadata": {
    "collapsed": false
   },
   "outputs": [
    {
     "data": {
      "text/plain": [
       "(3, 1)"
      ]
     },
     "execution_count": 154,
     "metadata": {},
     "output_type": "execute_result"
    }
   ],
   "source": [
    "initial_theta.shape"
   ]
  },
  {
   "cell_type": "markdown",
   "metadata": {},
   "source": [
    "## Initialize Hyper Parameters"
   ]
  },
  {
   "cell_type": "code",
   "execution_count": 155,
   "metadata": {
    "collapsed": true
   },
   "outputs": [],
   "source": [
    "iterations = 1500\n",
    "alpha = 0.1"
   ]
  },
  {
   "cell_type": "markdown",
   "metadata": {},
   "source": [
    "## Model/Hypothesis Function"
   ]
  },
  {
   "cell_type": "code",
   "execution_count": 156,
   "metadata": {
    "collapsed": true
   },
   "outputs": [],
   "source": [
    "def h(X, theta): #Linear hypothesis function\n",
    "    hx = np.dot(X,theta)\n",
    "    return hx"
   ]
  },
  {
   "cell_type": "markdown",
   "metadata": {},
   "source": [
    "## Cost Function"
   ]
  },
  {
   "cell_type": "code",
   "execution_count": 157,
   "metadata": {
    "collapsed": false
   },
   "outputs": [
    {
     "name": "stdout",
     "output_type": "stream",
     "text": [
      "65591548106.45744\n"
     ]
    }
   ],
   "source": [
    "def computeCost(theta,X,y): #Cost function\n",
    "    \"\"\"\n",
    "    theta_start is an n- dimensional vector of initial theta guess\n",
    "    X is matrix with n- columns and m- rows\n",
    "    y is a matrix with m- rows and 1 column\n",
    "    \"\"\"\n",
    "    #note to self: *.shape is (rows, columns)\n",
    "    return float((1./(2*m)) * np.dot((h(X,theta)-y).T,(h(X,theta)-y)))\n",
    "\n",
    "#Test that running computeCost with 0's as theta returns 65591548106.45744:\n",
    "initial_theta = np.zeros((X.shape[1],1)) #(theta is a vector with n rows and 1 columns (if X has n features) )\n",
    "print (computeCost(initial_theta,X,y))"
   ]
  },
  {
   "cell_type": "markdown",
   "metadata": {},
   "source": [
    "## Gradient Descent Function"
   ]
  },
  {
   "cell_type": "code",
   "execution_count": 158,
   "metadata": {
    "collapsed": true
   },
   "outputs": [],
   "source": [
    "#Actual gradient descent minimizing routine\n",
    "def gradientDescent(X, theta_start = np.zeros(2)):\n",
    "    \"\"\"\n",
    "    theta_start is an n- dimensional vector of initial theta guess\n",
    "    X is matrix with n- columns and m- rows\n",
    "    \"\"\"\n",
    "    theta = theta_start\n",
    "    j_history = [] #Used to plot cost as function of iteration\n",
    "    theta_history = [] #Used to visualize the minimization path later on\n",
    "    for meaninglessvariable in range(iterations):\n",
    "        tmptheta = theta\n",
    "        # append for plotting\n",
    "        j_history.append(computeCost(theta,X,y))\n",
    "        theta_history.append(list(theta[:,0]))\n",
    "        #Simultaneously updating theta values\n",
    "        for j in range(len(tmptheta)):\n",
    "            tmptheta[j] = theta[j] - (alpha/m)*np.sum((h(X,theta) - y)*np.array(X[:,j]).reshape(m,1))\n",
    "        theta = tmptheta\n",
    "    return theta, theta_history, j_history"
   ]
  },
  {
   "cell_type": "markdown",
   "metadata": {},
   "source": [
    "## Run Gradient Descent"
   ]
  },
  {
   "cell_type": "code",
   "execution_count": 159,
   "metadata": {
    "collapsed": false
   },
   "outputs": [],
   "source": [
    "#Actually run gradient descent to get the best-fit theta values\n",
    "theta, thetahistory, j_history = gradientDescent(X,initial_theta)\n"
   ]
  },
  {
   "cell_type": "code",
   "execution_count": 160,
   "metadata": {
    "collapsed": false
   },
   "outputs": [
    {
     "data": {
      "text/plain": [
       "array([[ 340412.65957447],\n",
       "       [ 110631.05027885],\n",
       "       [  -6649.47427082]])"
      ]
     },
     "execution_count": 160,
     "metadata": {},
     "output_type": "execute_result"
    }
   ],
   "source": [
    "theta"
   ]
  },
  {
   "cell_type": "markdown",
   "metadata": {},
   "source": [
    "## Plot Convergence"
   ]
  },
  {
   "cell_type": "code",
   "execution_count": 161,
   "metadata": {
    "collapsed": false
   },
   "outputs": [
    {
     "data": {
      "image/png": "[encoded data removed]",
      "text/plain": [
       "<matplotlib.figure.Figure at 0x7efdfdef6160>"
      ]
     },
     "metadata": {},
     "output_type": "display_data"
    }
   ],
   "source": [
    "plt.plot(j_history)\n",
    "plt.title(\"Convergence of Cost Function\")\n",
    "plt.xlabel(\"Iteration number\")\n",
    "plt.ylabel(\"Cost function\")\n",
    "plt.show()"
   ]
  },
  {
   "cell_type": "markdown",
   "metadata": {},
   "source": [
    "## Predict output using trained model"
   ]
  },
  {
   "cell_type": "code",
   "execution_count": 162,
   "metadata": {
    "collapsed": false
   },
   "outputs": [
    {
     "data": {
      "text/html": [
       "<div>\n",
       "<table border=\"1\" class=\"dataframe\">\n",
       "  <thead>\n",
       "    <tr style=\"text-align: right;\">\n",
       "      <th></th>\n",
       "      <th>size</th>\n",
       "      <th>bedrooms</th>\n",
       "      <th>price</th>\n",
       "    </tr>\n",
       "  </thead>\n",
       "  <tbody>\n",
       "    <tr>\n",
       "      <th>0</th>\n",
       "      <td>0.130010</td>\n",
       "      <td>-0.223675</td>\n",
       "      <td>399900</td>\n",
       "    </tr>\n",
       "    <tr>\n",
       "      <th>1</th>\n",
       "      <td>-0.504190</td>\n",
       "      <td>-0.223675</td>\n",
       "      <td>329900</td>\n",
       "    </tr>\n",
       "    <tr>\n",
       "      <th>2</th>\n",
       "      <td>0.502476</td>\n",
       "      <td>-0.223675</td>\n",
       "      <td>369000</td>\n",
       "    </tr>\n",
       "    <tr>\n",
       "      <th>3</th>\n",
       "      <td>-0.735723</td>\n",
       "      <td>-1.537767</td>\n",
       "      <td>232000</td>\n",
       "    </tr>\n",
       "    <tr>\n",
       "      <th>4</th>\n",
       "      <td>1.257476</td>\n",
       "      <td>1.090417</td>\n",
       "      <td>539900</td>\n",
       "    </tr>\n",
       "  </tbody>\n",
       "</table>\n",
       "</div>"
      ],
      "text/plain": [
       "       size  bedrooms   price\n",
       "0  0.130010 -0.223675  399900\n",
       "1 -0.504190 -0.223675  329900\n",
       "2  0.502476 -0.223675  369000\n",
       "3 -0.735723 -1.537767  232000\n",
       "4  1.257476  1.090417  539900"
      ]
     },
     "execution_count": 162,
     "metadata": {},
     "output_type": "execute_result"
    }
   ],
   "source": [
    "dataframe.head()"
   ]
  },
  {
   "cell_type": "code",
   "execution_count": 166,
   "metadata": {
    "collapsed": false
   },
   "outputs": [
    {
     "name": "stdout",
     "output_type": "stream",
     "text": [
      "$356283.09\n"
     ]
    }
   ],
   "source": [
    "x_test = np.array([1,0.130010,-0.22367])\n",
    "\n",
    "print(\"$%0.2f\" % float(h(x_test,theta)))"
   ]
  },
  {
   "cell_type": "code",
   "execution_count": 168,
   "metadata": {
    "collapsed": true
   },
   "outputs": [],
   "source": [
    "hx = h(X, theta)"
   ]
  },
  {
   "cell_type": "code",
   "execution_count": 169,
   "metadata": {
    "collapsed": false
   },
   "outputs": [
    {
     "data": {
      "image/png": "[encoded data removed]",
      "text/plain": [
       "<matplotlib.figure.Figure at 0x7efdfdff02e8>"
      ]
     },
     "metadata": {},
     "output_type": "display_data"
    }
   ],
   "source": [
    "from mpl_toolkits.mplot3d import Axes3D\n",
    "fig = plt.figure()\n",
    "fig.set_size_inches(12.5, 7.5)\n",
    "ax = fig.add_subplot(111, projection='3d')\n",
    "\n",
    "ax.scatter(xs=dataframe['size'], ys=dataframe['bedrooms'], zs=dataframe['price'])\n",
    "\n",
    "ax.set_ylabel('bedrooms'); ax.set_xlabel('size'); ax.set_zlabel('price')\n",
    "# ax.plot(xs=np.array(X[:,0],dtype=object).reshape(-1,1), ys=np.array(X[:,1],dtype=object).reshape(-1,1), zs=hx, color='green')\n",
    "ax.plot(X[:,0], X[:,1], np.array(hx[:,0]), label='fitted line', color='green') \n",
    "# ax.view_init(20, -165)\n",
    "plt.show()"
   ]
  },
  {
   "cell_type": "markdown",
   "metadata": {
    "slideshow": {
     "slide_type": "slide"
    }
   },
   "source": [
    "# Resources\n",
    "\n",
    "Course website: [https://w4zir.github.io/ml17s/](https://w4zir.github.io/ml17s/)\n",
    "\n",
    "[Course resources](https://github.com/w4zir/ml17s)"
   ]
  },
  {
   "cell_type": "markdown",
   "metadata": {
    "slideshow": {
     "slide_type": "fragment"
    }
   },
   "source": [
    "# Credits\n",
    "Raschka, Sebastian. Python machine learning. Birmingham, UK: Packt Publishing, 2015. Print.\n",
    "\n",
    "[Andrew Ng, Machine Learning, Coursera](#https://www.coursera.org/learn/machine-learning)\n",
    "\n",
    "[Lucas Shen](https://github.com/icrtiou/Coursera-ML-AndrewNg)\n",
    "\n",
    "[David Kaleko](https://github.com/kaleko/CourseraML)"
   ]
  }
 ],
 "metadata": {
  "anaconda-cloud": {},
  "kernelspec": {
   "display_name": "Python 3",
   "language": "python",
   "name": "python3"
  },
  "language_info": {
   "codemirror_mode": {
    "name": "ipython",
    "version": 3
   },
   "file_extension": ".py",
   "mimetype": "text/x-python",
   "name": "python",
   "nbconvert_exporter": "python",
   "pygments_lexer": "ipython3",
   "version": "3.6.0"
  }
 },
 "nbformat": 4,
 "nbformat_minor": 0
}
