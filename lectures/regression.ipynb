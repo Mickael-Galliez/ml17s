{
 "cells": [
  {
   "cell_type": "markdown",
   "metadata": {
    "nbpresent": {
     "id": "fe44ba19-15a6-4096-9ea5-073148fe3997"
    },
    "slideshow": {
     "slide_type": "slide"
    }
   },
   "source": [
    "# CSAL4243: Introduction to Machine Learning\n",
    "Muhammad Mudassir Khan (mudasssir.khan@ucp.edu.pk)"
   ]
  },
  {
   "cell_type": "markdown",
   "metadata": {
    "nbpresent": {
     "id": "29695919-4ae9-4f64-aa02-86ba2237b825"
    },
    "slideshow": {
     "slide_type": "slide"
    }
   },
   "source": [
    "# Lecture 2: Linear Regression"
   ]
  },
  {
   "cell_type": "markdown",
   "metadata": {
    "nbpresent": {
     "id": "fd076e5f-462e-4513-b64c-42128c6d8537"
    },
    "slideshow": {
     "slide_type": "fragment"
    }
   },
   "source": [
    "### Overview"
   ]
  },
  {
   "cell_type": "markdown",
   "metadata": {
    "collapsed": true,
    "nbpresent": {
     "id": "f112a343-1b7c-4b18-bdd6-cb720867f82e"
    },
    "slideshow": {
     "slide_type": "fragment"
    }
   },
   "source": [
    "- [What is Machine Learning?](#what-is-ml)\n",
    "    - [Definition](#Definition)\n",
    "- [The three different types of machine learning](#The-three-different-types-of-machine-learning)\n",
    "    - [Learning from labled data with supervised learning](#Learning-from-labled-data-with-supervised-learning)\n",
    "        - [Regression for predicting continuous outcomes](#Regression-for-predicting-continuous-outcomes)\n",
    "        - [Classification for predicting class labels](#Classification-for-predicting-class-labels)\n",
    "    - [Unsupervised Learning](#Unsupervised-Learning)\n",
    "    - [Reinforcement Learning](#Reinforcement-Learning)\n",
    "- [Machine Learning pipeline](#Machine-Learning-pipeline)\n",
    "- [Goal of Machine Learning algorithm](#Goal-of-Machine-Learning-algorithm)\n",
    "- [# Linear Regression with one variable](#Linear-Regression-with-one-variable)\n",
    "    - [Model Representation](#Model-Representation)\n",
    "    - [Cost Function](#Cost-Function)\n",
    "        - [Simple case when $\\theta_0$ = 0](#Simple case when $\\theta_0$ = 0)\n",
    "        - [When both $\\theta_0$ and $\\theta_1$ can vary](#When both $\\theta_0$ and $\\theta_1$ can vary)\n",
    "- [So what is the price of the house?](#So-what-is-the-price-of-the-house?)\n",
    "    - [Read data](#Read-data)\n",
    "    - [Plot data](#Plot-data)\n",
    "    - [Train Model](#Train-Model)\n",
    "    - [Predict output using trained model](#Predict-output-using-trained-model)\n",
    "    - [Plot results](#Plot-results)\n",
    "- [Resources](#Resources)\n",
    "- [Credits](#credits)"
   ]
  },
  {
   "cell_type": "markdown",
   "metadata": {
    "nbpresent": {
     "id": "ec5fbb55-9386-4fd4-8cf6-053c4ac32c58"
    }
   },
   "source": [
    "<br>\n",
    "<br>"
   ]
  },
  {
   "cell_type": "markdown",
   "metadata": {
    "nbpresent": {
     "id": "34bd71aa-4977-4e14-9f04-d1a2d132a964"
    },
    "slideshow": {
     "slide_type": "slide"
    }
   },
   "source": [
    "# What is Machine Learning? <a name=\"what-is-ml\"></a> "
   ]
  },
  {
   "cell_type": "markdown",
   "metadata": {
    "nbpresent": {
     "id": "74d2e562-68b7-4e49-a060-a7b681154547"
    },
    "slideshow": {
     "slide_type": "subslide"
    }
   },
   "source": [
    "* Machine Learning is making computers/machcines learn from data\n",
    "* Learning improve over time with more data"
   ]
  },
  {
   "cell_type": "markdown",
   "metadata": {
    "nbpresent": {
     "id": "b6b4ef74-3c54-4fa0-b6d5-ca916512ef69"
    },
    "slideshow": {
     "slide_type": "subslide"
    }
   },
   "source": [
    "## Definition\n",
    "Mitchell ( 1997 ) define Machine Learning as “A computer\n",
    "program is said to learn from experience E with respect to some class of tasks T\n",
    "and performance measure P , if its performance at tasks in T , as measured by P ,\n",
    "improves with experience E .”\n",
    "\n",
    "Example: playing checkers.\n",
    "\n",
    "T = the task of playing checkers.\n",
    "\n",
    "E = the experience of playing many games of checkers\n",
    "\n",
    "P = the probability that the program will win the next game."
   ]
  },
  {
   "cell_type": "markdown",
   "metadata": {
    "nbpresent": {
     "id": "09319188-8b3b-4e0a-b2e6-d242180b0bc0"
    }
   },
   "source": [
    "<br>\n",
    "<br>"
   ]
  },
  {
   "cell_type": "markdown",
   "metadata": {},
   "source": [
    "# The three different types of machine learning"
   ]
  },
  {
   "cell_type": "markdown",
   "metadata": {
    "nbpresent": {
     "id": "71215af9-958f-4d21-b249-898c5f196612"
    },
    "slideshow": {
     "slide_type": "slide"
    }
   },
   "source": [
    "<img style=\"float: left;\" src=\"images/01_01.png\", width=500>"
   ]
  },
  {
   "cell_type": "markdown",
   "metadata": {
    "nbpresent": {
     "id": "796571e7-d69a-406c-8296-be86036ae736"
    }
   },
   "source": [
    "<br>\n",
    "<br>"
   ]
  },
  {
   "cell_type": "markdown",
   "metadata": {},
   "source": [
    "## Supervised Learning"
   ]
  },
  {
   "cell_type": "markdown",
   "metadata": {
    "nbpresent": {
     "id": "412a0bd7-eb61-46a1-b2a2-cc1b00ac50f2"
    },
    "slideshow": {
     "slide_type": "slide"
    }
   },
   "source": [
    "<img style=\"float: left;\" src=\"images/01_02.png\", width=500>"
   ]
  },
  {
   "cell_type": "markdown",
   "metadata": {
    "nbpresent": {
     "id": "ad1bbe92-97aa-46b6-87ca-db97f87ae056"
    }
   },
   "source": [
    "<br>\n",
    "<br>"
   ]
  },
  {
   "cell_type": "markdown",
   "metadata": {},
   "source": [
    "### Regression for predicting continuous outcomes"
   ]
  },
  {
   "cell_type": "markdown",
   "metadata": {
    "nbpresent": {
     "id": "3515535d-98c9-4c68-9b4e-ff39625fb289"
    },
    "slideshow": {
     "slide_type": "slide"
    }
   },
   "source": [
    "<img style=\"float: left;\" src=\"images/01_04.png\", width=300> <img style=\"float: right;\" src=\"images/01_11.png\", width=500>"
   ]
  },
  {
   "cell_type": "markdown",
   "metadata": {},
   "source": [
    "<br>\n",
    "<br>"
   ]
  },
  {
   "cell_type": "markdown",
   "metadata": {},
   "source": [
    "### Classification for predicting class labels"
   ]
  },
  {
   "cell_type": "markdown",
   "metadata": {
    "nbpresent": {
     "id": "a2a68a4e-08e0-431b-9cfb-7b88bfff6867"
    },
    "slideshow": {
     "slide_type": "slide"
    }
   },
   "source": [
    "<img style=\"float: left;\" src=\"images/01_03.png\", width=300> <img style=\"float: right;\" src=\"images/01_12.png\", width=500>"
   ]
  },
  {
   "cell_type": "markdown",
   "metadata": {
    "nbpresent": {
     "id": "9f68d36c-d69f-4bf3-a367-4041dac8b91b"
    }
   },
   "source": [
    "<br>\n",
    "<br>"
   ]
  },
  {
   "cell_type": "markdown",
   "metadata": {},
   "source": [
    "## Unsupervised Learning"
   ]
  },
  {
   "cell_type": "markdown",
   "metadata": {
    "nbpresent": {
     "id": "ec03c0c6-fe5e-4c53-b99e-06b20bf794b6"
    },
    "slideshow": {
     "slide_type": "slide"
    }
   },
   "source": [
    "<img style=\"float: left;\" src=\"images/01_06.png\", width=300>"
   ]
  },
  {
   "cell_type": "markdown",
   "metadata": {
    "nbpresent": {
     "id": "403eb404-055c-4360-bdfb-d6fdcd8b264c"
    }
   },
   "source": [
    "<br>\n",
    "<br>"
   ]
  },
  {
   "cell_type": "markdown",
   "metadata": {},
   "source": [
    "## Reinforcement Learning"
   ]
  },
  {
   "cell_type": "markdown",
   "metadata": {
    "nbpresent": {
     "id": "80147257-5055-41ff-9aa4-06aed06fd77d"
    },
    "slideshow": {
     "slide_type": "slide"
    }
   },
   "source": [
    "<img style=\"float: left;\" src=\"images/01_05.png\", width=300>"
   ]
  },
  {
   "cell_type": "markdown",
   "metadata": {
    "nbpresent": {
     "id": "2ecf28c3-d60b-45fd-bdd9-48d3bd262814"
    }
   },
   "source": [
    "<br>\n",
    "<br>"
   ]
  },
  {
   "cell_type": "markdown",
   "metadata": {},
   "source": [
    "# Machine Learning pipeline"
   ]
  },
  {
   "cell_type": "markdown",
   "metadata": {
    "nbpresent": {
     "id": "20b4045e-6912-4e5a-a92c-1d3fa298d293"
    },
    "slideshow": {
     "slide_type": "slide"
    }
   },
   "source": [
    "<img style=\"float: left;\" src=\"images/model.png\", width=500>"
   ]
  },
  {
   "cell_type": "markdown",
   "metadata": {
    "nbpresent": {
     "id": "6115b71b-e9e1-4c35-b3fe-2b2f1f2ba063"
    },
    "slideshow": {
     "slide_type": "fragment"
    }
   },
   "source": [
    "- x is called input variables or input features.\n",
    "\n",
    "- y is called output or target variable. Also sometimes known as label.\n",
    "\n",
    "- h is called hypothesis or model. \n",
    "\n",
    "- pair (x<sup>(i)</sup>,y<sup>(i)</sup>) is called a sample or training example\n",
    "\n",
    "- dataset of all training examples is called training set.\n",
    "\n",
    "- m is the number of samples in a dataset.\n",
    "\n",
    "- n is the number of features in a dataset excluding label.\n",
    "\n",
    "<img style=\"float: left;\" src=\"images/02_02.png\", width=400> \n",
    "<img style=\"float: right;\" src=\"images/02_03.png\", width=400>"
   ]
  },
  {
   "cell_type": "markdown",
   "metadata": {
    "nbpresent": {
     "id": "193b6c4f-8987-4a38-b725-ca5481a405ba"
    },
    "slideshow": {
     "slide_type": "slide"
    }
   },
   "source": [
    "#### Question ?\n",
    "- What is x<sup>(2)</sup> and y<sup>(2)</sup>?"
   ]
  },
  {
   "cell_type": "markdown",
   "metadata": {
    "nbpresent": {
     "id": "2316901b-0783-4805-b07e-7c0787f4560b"
    }
   },
   "source": [
    "<br>\n",
    "<br>"
   ]
  },
  {
   "cell_type": "markdown",
   "metadata": {
    "nbpresent": {
     "id": "72de796a-bee5-49be-8229-bfac47eb63b1"
    },
    "slideshow": {
     "slide_type": "slide"
    }
   },
   "source": [
    "# Goal of Machine Learning algorithm\n",
    "\n",
    "- How well the algorithm will perform on unseen data. \n",
    "- Also called generalization."
   ]
  },
  {
   "cell_type": "markdown",
   "metadata": {
    "nbpresent": {
     "id": "7171af06-b33b-4af7-926a-02eece7c1d62"
    }
   },
   "source": [
    "<br>\n",
    "<br>"
   ]
  },
  {
   "cell_type": "markdown",
   "metadata": {
    "nbpresent": {
     "id": "01dfa8ef-9fb8-4388-8545-1c848696a5dc"
    },
    "slideshow": {
     "slide_type": "slide"
    }
   },
   "source": [
    "# Linear Regression with one variable"
   ]
  },
  {
   "cell_type": "markdown",
   "metadata": {
    "slideshow": {
     "slide_type": "fragment"
    }
   },
   "source": [
    "## Model Representation"
   ]
  },
  {
   "cell_type": "markdown",
   "metadata": {
    "nbpresent": {
     "id": "b5f473e4-ed0d-4db3-98fb-ed3bb26d357b"
    },
    "slideshow": {
     "slide_type": "fragment"
    }
   },
   "source": [
    "- Model is represented by h<sub>$\\theta$</sub>(x) or simply h(x)\n",
    "\n",
    "- For Linear regression with one input variable h(x) =  $\\theta$<sub>0</sub> + $\\theta$<sub>1</sub>x\n",
    "\n",
    "<img style=\"float: left;\" src=\"images/02_01.png\">\n",
    "\n",
    "<img style=\"float: left;\" src=\"images/02_05.png\">"
   ]
  },
  {
   "cell_type": "markdown",
   "metadata": {
    "nbpresent": {
     "id": "36db8cac-3b0d-4c48-880a-ec4f50d51a66"
    },
    "slideshow": {
     "slide_type": "fragment"
    }
   },
   "source": [
    "- $\\theta$<sub>0</sub> and $\\theta$<sub>1</sub> are called weights or parameters.\n",
    "- Need to find $\\theta$<sub>0</sub> and $\\theta$<sub>1</sub> that maximizes the performance of model."
   ]
  },
  {
   "cell_type": "markdown",
   "metadata": {
    "nbpresent": {
     "id": "a3a18302-d57c-40c9-af16-fe4f897fc5b8"
    }
   },
   "source": [
    "<br>\n",
    "<br>"
   ]
  },
  {
   "cell_type": "markdown",
   "metadata": {
    "nbpresent": {
     "id": "0d5e91b4-8bc1-41af-af7a-56eef4c119e8"
    }
   },
   "source": [
    "## Cost Function"
   ]
  },
  {
   "cell_type": "markdown",
   "metadata": {
    "nbpresent": {
     "id": "17424559-6fba-43e0-82c6-032bcdbb3c37"
    },
    "slideshow": {
     "slide_type": "slide"
    }
   },
   "source": [
    "<img style=\"float: left;\" src=\"images/02_04.png\", width=500>"
   ]
  },
  {
   "cell_type": "markdown",
   "metadata": {
    "nbpresent": {
     "id": "5bedbfb8-7041-4330-8aa8-dcac96e6f3c6"
    },
    "slideshow": {
     "slide_type": "fragment"
    }
   },
   "source": [
    "Let $\\hat{y}$ = h(x) =  $\\theta$<sub>0</sub> + $\\theta$<sub>1</sub>x\n",
    "\n",
    "Error in single sample (x,y) = $\\hat{y}$ - y = h(x) - y \n",
    "\n",
    "Cummulative error of all m samples = $\\sum_{i=1}^{m} (h(x^i) - y^i)^2$\n",
    "\n",
    "Finally mean error or cost function = J($\\theta$) = $\\frac{1}{2m}\\sum_{i=1}^{m} (h(x^i) - y^i)^2$"
   ]
  },
  {
   "cell_type": "markdown",
   "metadata": {
    "nbpresent": {
     "id": "f737370c-3445-4b91-af6c-2c3c5ea2f17b"
    }
   },
   "source": [
    "<br>\n",
    "<br>"
   ]
  },
  {
   "cell_type": "markdown",
   "metadata": {
    "nbpresent": {
     "id": "791daadb-1bd9-420e-84af-7cc771933882"
    },
    "slideshow": {
     "slide_type": "slide"
    }
   },
   "source": [
    "### Simple case when $\\theta_0$ = 0"
   ]
  },
  {
   "cell_type": "markdown",
   "metadata": {
    "nbpresent": {
     "id": "b7c9f708-69fa-495b-bb12-d7f043978ef4"
    },
    "slideshow": {
     "slide_type": "subslide"
    }
   },
   "source": [
    "<img style=\"float: center;\" src=\"images/02_06.png\", width=700>\n",
    "\n",
    "<img style=\"float: center;\" src=\"images/02_07.png\", width=700>\n",
    "\n",
    "<img style=\"float: center;\" src=\"images/02_08.png\", width=700>\n",
    "\n",
    "<img style=\"float: center;\" src=\"images/02_09.png\", width=700>"
   ]
  },
  {
   "cell_type": "markdown",
   "metadata": {
    "nbpresent": {
     "id": "0ea42251-17a3-4d51-9b89-e6fc0ba31b33"
    }
   },
   "source": [
    "<b>"
   ]
  },
  {
   "cell_type": "markdown",
   "metadata": {
    "slideshow": {
     "slide_type": "slide"
    }
   },
   "source": [
    "### When both $\\theta_0$ and $\\theta_1$ can vary"
   ]
  },
  {
   "cell_type": "markdown",
   "metadata": {
    "nbpresent": {
     "id": "07bc7d1d-f5ac-4d73-95e6-e1dd7f70792c"
    },
    "slideshow": {
     "slide_type": "subslide"
    }
   },
   "source": [
    "<img style=\"float: center;\" src=\"images/02_10.png\", width=700>\n",
    "\n",
    "<img style=\"float: center;\" src=\"images/02_11.png\", width=700>\n",
    "\n",
    "<img style=\"float: center;\" src=\"images/02_12.png\", width=700>\n",
    "\n",
    "<img style=\"float: center;\" src=\"images/02_13.png\", width=700>"
   ]
  },
  {
   "cell_type": "markdown",
   "metadata": {
    "nbpresent": {
     "id": "878aac57-7be8-478d-9a28-abdd118bfd1e"
    }
   },
   "source": [
    "<br>\n",
    "<br>"
   ]
  },
  {
   "cell_type": "markdown",
   "metadata": {
    "nbpresent": {
     "id": "a449c73f-337a-49a6-b2db-2a2ac5aa9f82"
    }
   },
   "source": [
    "# So what is the price of the house? "
   ]
  },
  {
   "cell_type": "markdown",
   "metadata": {
    "nbpresent": {
     "id": "5bdc956f-9ba0-4f03-a7e4-23e6d54e2e56"
    }
   },
   "source": [
    "## Read data"
   ]
  },
  {
   "cell_type": "code",
   "execution_count": 1,
   "metadata": {
    "collapsed": false,
    "nbpresent": {
     "id": "24eabc50-e08b-48d2-9a51-f07ed1608ddd"
    },
    "scrolled": true
   },
   "outputs": [],
   "source": [
    "import pandas as pd\n",
    "from sklearn import linear_model\n",
    "import matplotlib.pyplot as plt\n",
    "\n",
    "# read data in pandas frame\n",
    "dataframe = pd.read_csv('datasets/house_dataset1.csv')\n",
    "\n",
    "# assign x and y\n",
    "x_feature = dataframe[['Size']]\n",
    "y_labels = dataframe[['Price']]"
   ]
  },
  {
   "cell_type": "code",
   "execution_count": 90,
   "metadata": {
    "collapsed": false,
    "nbpresent": {
     "id": "cd3f5d6b-1aa5-45dd-9e1d-719f979bcb7a"
    }
   },
   "outputs": [
    {
     "data": {
      "text/html": [
       "<div>\n",
       "<table border=\"1\" class=\"dataframe\">\n",
       "  <thead>\n",
       "    <tr style=\"text-align: right;\">\n",
       "      <th></th>\n",
       "      <th>Size</th>\n",
       "      <th>Price</th>\n",
       "    </tr>\n",
       "  </thead>\n",
       "  <tbody>\n",
       "    <tr>\n",
       "      <th>0</th>\n",
       "      <td>2104</td>\n",
       "      <td>399900</td>\n",
       "    </tr>\n",
       "    <tr>\n",
       "      <th>1</th>\n",
       "      <td>1600</td>\n",
       "      <td>329900</td>\n",
       "    </tr>\n",
       "    <tr>\n",
       "      <th>2</th>\n",
       "      <td>2400</td>\n",
       "      <td>369000</td>\n",
       "    </tr>\n",
       "    <tr>\n",
       "      <th>3</th>\n",
       "      <td>1416</td>\n",
       "      <td>232000</td>\n",
       "    </tr>\n",
       "    <tr>\n",
       "      <th>4</th>\n",
       "      <td>3000</td>\n",
       "      <td>539900</td>\n",
       "    </tr>\n",
       "  </tbody>\n",
       "</table>\n",
       "</div>"
      ],
      "text/plain": [
       "   Size   Price\n",
       "0  2104  399900\n",
       "1  1600  329900\n",
       "2  2400  369000\n",
       "3  1416  232000\n",
       "4  3000  539900"
      ]
     },
     "execution_count": 90,
     "metadata": {},
     "output_type": "execute_result"
    }
   ],
   "source": [
    "# check data by printing first few rows\n",
    "dataframe.head()"
   ]
  },
  {
   "cell_type": "markdown",
   "metadata": {
    "nbpresent": {
     "id": "6481105e-29d5-4afa-a40d-2316a06da1af"
    }
   },
   "source": [
    "## Plot data"
   ]
  },
  {
   "cell_type": "code",
   "execution_count": 91,
   "metadata": {
    "collapsed": false,
    "nbpresent": {
     "id": "d7155c98-4e64-45fc-9da9-80fba27a408b"
    }
   },
   "outputs": [
    {
     "data": {
      "image/png": "[encoded data removed]",
      "text/plain": [
       "<matplotlib.figure.Figure at 0x7fe88c113ba8>"
      ]
     },
     "metadata": {},
     "output_type": "display_data"
    }
   ],
   "source": [
    "#visualize results\n",
    "plt.scatter(x_feature, y_labels)\n",
    "plt.show()"
   ]
  },
  {
   "cell_type": "code",
   "execution_count": 92,
   "metadata": {
    "collapsed": false,
    "nbpresent": {
     "id": "7486e4b7-c3c0-4edd-9ca3-9d7652f8edd9"
    }
   },
   "outputs": [
    {
     "data": {
      "text/plain": [
       "(47, 1)"
      ]
     },
     "execution_count": 92,
     "metadata": {},
     "output_type": "execute_result"
    }
   ],
   "source": [
    "y_labels.shape"
   ]
  },
  {
   "cell_type": "markdown",
   "metadata": {
    "nbpresent": {
     "id": "af576a50-2f9b-447f-be66-55028e8a9bb6"
    }
   },
   "source": [
    "## Train model"
   ]
  },
  {
   "cell_type": "code",
   "execution_count": 93,
   "metadata": {
    "collapsed": false,
    "nbpresent": {
     "id": "8a2dfd4b-3277-4324-92a7-0224240ef1f3"
    }
   },
   "outputs": [
    {
     "data": {
      "text/plain": [
       "LinearRegression(copy_X=True, fit_intercept=True, n_jobs=1, normalize=False)"
      ]
     },
     "execution_count": 93,
     "metadata": {},
     "output_type": "execute_result"
    }
   ],
   "source": [
    "#train model on data\n",
    "body_reg = linear_model.LinearRegression()\n",
    "body_reg.fit(x_feature, y_labels)"
   ]
  },
  {
   "cell_type": "markdown",
   "metadata": {
    "nbpresent": {
     "id": "40d85126-4f13-4524-90b6-a64f255309af"
    }
   },
   "source": [
    "## Predict output using trained model"
   ]
  },
  {
   "cell_type": "code",
   "execution_count": 94,
   "metadata": {
    "collapsed": true,
    "nbpresent": {
     "id": "2a0c32fb-7632-4106-9e1e-0109e19d0498"
    }
   },
   "outputs": [],
   "source": [
    "hx = body_reg.predict(x_feature)"
   ]
  },
  {
   "cell_type": "markdown",
   "metadata": {
    "nbpresent": {
     "id": "392ee53a-b230-46e1-978b-5fa87675475a"
    }
   },
   "source": [
    "## Plot results"
   ]
  },
  {
   "cell_type": "code",
   "execution_count": 95,
   "metadata": {
    "collapsed": false,
    "nbpresent": {
     "id": "c581b24a-933a-46aa-8552-acdc5b21c3b3"
    }
   },
   "outputs": [
    {
     "data": {
      "image/png": "[encoded data removed]",
      "text/plain": [
       "<matplotlib.figure.Figure at 0x7fe88c1478d0>"
      ]
     },
     "metadata": {},
     "output_type": "display_data"
    }
   ],
   "source": [
    "plt.scatter(x_feature, y_labels)\n",
    "plt.plot(x_feature, hx)\n",
    "plt.show()"
   ]
  },
  {
   "cell_type": "markdown",
   "metadata": {},
   "source": [
    "## Parameters"
   ]
  },
  {
   "cell_type": "code",
   "execution_count": 99,
   "metadata": {
    "collapsed": false
   },
   "outputs": [
    {
     "ename": "TypeError",
     "evalue": "'numpy.ndarray' object is not callable",
     "output_type": "error",
     "traceback": [
      "\u001b[0;31m---------------------------------------------------------------------------\u001b[0m",
      "\u001b[0;31mTypeError\u001b[0m                                 Traceback (most recent call last)",
      "\u001b[0;32m<ipython-input-99-f699200b67f1>\u001b[0m in \u001b[0;36m<module>\u001b[0;34m()\u001b[0m\n\u001b[0;32m----> 1\u001b[0;31m \u001b[0mbody_reg\u001b[0m\u001b[0;34m.\u001b[0m\u001b[0mcoef_\u001b[0m\u001b[0;34m(\u001b[0m\u001b[0;34m)\u001b[0m\u001b[0;34m\u001b[0m\u001b[0m\n\u001b[0m",
      "\u001b[0;31mTypeError\u001b[0m: 'numpy.ndarray' object is not callable"
     ]
    }
   ],
   "source": [
    "body_reg.coef_()"
   ]
  },
  {
   "cell_type": "markdown",
   "metadata": {},
   "source": [
    "# Do it yourself"
   ]
  },
  {
   "cell_type": "code",
   "execution_count": 86,
   "metadata": {
    "collapsed": false
   },
   "outputs": [
    {
     "name": "stdout",
     "output_type": "stream",
     "text": [
      "165.0\n"
     ]
    }
   ],
   "source": [
    "theta0 = 0\n",
    "theta1 = 0\n",
    "inc = 1.0\n",
    "\n",
    "#loop over all values of theta1 from -3.14 to 3.14 with an increment of inc and find cost. \n",
    "# The one with minimum cost is the answer.\n",
    "m = x_feature.shape[0]\n",
    "n = x_feature.shape[1]\n",
    "\n",
    "# optimal values to be determined\n",
    "minCost = 100000000000000\n",
    "optimal_theta = 0\n",
    "\n",
    "while theta1 < 1000:\n",
    "    cost = 0;\n",
    "    for indx in range(m):\n",
    "        hx = theta1*x_feature.values[indx,0] + theta0\n",
    "        cost += pow((hx - y_labels.values[indx,0]),2)\n",
    "               \n",
    "    cost = cost/(2*m)        \n",
    "#     print(theta1)\n",
    "#     print(cost)\n",
    "    \n",
    "    if cost < minCost:\n",
    "        minCost =  cost\n",
    "        optimal_theta = theta1\n",
    "    theta1 += inc\n",
    "        \n",
    "print (optimal_theta)        "
   ]
  },
  {
   "cell_type": "code",
   "execution_count": 88,
   "metadata": {
    "collapsed": false
   },
   "outputs": [],
   "source": [
    "pred = optimal_theta*x_feature"
   ]
  },
  {
   "cell_type": "code",
   "execution_count": 84,
   "metadata": {
    "collapsed": false
   },
   "outputs": [
    {
     "data": {
      "text/plain": [
       "(47, 1)"
      ]
     },
     "execution_count": 84,
     "metadata": {},
     "output_type": "execute_result"
    }
   ],
   "source": [
    "pred.shape"
   ]
  },
  {
   "cell_type": "code",
   "execution_count": 89,
   "metadata": {
    "collapsed": false
   },
   "outputs": [
    {
     "data": {
      "image/png": "[encoded data removed]",
      "text/plain": [
       "<matplotlib.figure.Figure at 0x7fe88c19a128>"
      ]
     },
     "metadata": {},
     "output_type": "display_data"
    }
   ],
   "source": [
    "plt.scatter(x_feature, y_labels)\n",
    "plt.plot(x_feature, pred)\n",
    "plt.show()"
   ]
  },
  {
   "cell_type": "markdown",
   "metadata": {
    "nbpresent": {
     "id": "234a65c2-d6b0-4748-8f43-15d9fd504bf5"
    }
   },
   "source": [
    "# Resources\n",
    "\n",
    "Course website: [https://w4zir.github.io/ml17s/](https://w4zir.github.io/ml17s/)\n",
    "\n",
    "[Course resources](https://github.com/w4zir/ml17s)"
   ]
  },
  {
   "cell_type": "markdown",
   "metadata": {
    "nbpresent": {
     "id": "65b35509-aaf7-457f-b824-9037fcda28ec"
    }
   },
   "source": [
    "# Credits\n",
    "Raschka, Sebastian. Python machine learning. Birmingham, UK: Packt Publishing, 2015. Print.\n",
    "\n",
    "Andrew Ng, Machine Learning, Coursera.org."
   ]
  }
 ],
 "metadata": {
  "anaconda-cloud": {},
  "kernelspec": {
   "display_name": "Python 3",
   "language": "python",
   "name": "python3"
  },
  "language_info": {
   "codemirror_mode": {
    "name": "ipython",
    "version": 3
   },
   "file_extension": ".py",
   "mimetype": "text/x-python",
   "name": "python",
   "nbconvert_exporter": "python",
   "pygments_lexer": "ipython3",
   "version": "3.6.0"
  },
  "nbpresent": {
   "slides": {
    "0498d43e-5a46-432e-b29e-23b003e35963": {
     "id": "0498d43e-5a46-432e-b29e-23b003e35963",
     "prev": "6e6ad5fd-1da5-46cb-b71f-26f1d153ed84",
     "regions": {
      "b6a0b280-610a-4dda-9fb3-6d7c04c34bb4": {
       "attrs": {
        "height": 0.8,
        "width": 0.8,
        "x": 0.1,
        "y": 0.1
       },
       "content": {
        "cell": "07bc7d1d-f5ac-4d73-95e6-e1dd7f70792c",
        "part": "whole"
       },
       "id": "b6a0b280-610a-4dda-9fb3-6d7c04c34bb4"
      }
     }
    },
    "072a6ab9-11ec-4a8e-a10e-f13fc8d56708": {
     "id": "072a6ab9-11ec-4a8e-a10e-f13fc8d56708",
     "prev": "6f73d891-9951-43b8-a6f0-b85693742f02",
     "regions": {
      "b6e39f89-b2f5-41d6-a92d-60ac6edec39f": {
       "attrs": {
        "height": 0.8,
        "width": 0.8,
        "x": 0.1,
        "y": 0.1
       },
       "content": {
        "cell": "8a2dfd4b-3277-4324-92a7-0224240ef1f3",
        "part": "whole"
       },
       "id": "b6e39f89-b2f5-41d6-a92d-60ac6edec39f"
      }
     }
    },
    "0acf9871-9c98-43cf-8d90-adb1d16874a3": {
     "id": "0acf9871-9c98-43cf-8d90-adb1d16874a3",
     "prev": "c8b59386-f284-48a8-9cde-c3a1d23d1d99",
     "regions": {
      "b71abc4c-eb11-4fb3-963d-e53470ca1d56": {
       "attrs": {
        "height": 0.8,
        "width": 0.8,
        "x": 0.1,
        "y": 0.1
       },
       "content": {
        "cell": "a2a68a4e-08e0-431b-9cfb-7b88bfff6867",
        "part": "whole"
       },
       "id": "b71abc4c-eb11-4fb3-963d-e53470ca1d56"
      }
     }
    },
    "16ee2721-a082-4011-97a1-7df999e3d88f": {
     "id": "16ee2721-a082-4011-97a1-7df999e3d88f",
     "prev": "687f3915-479b-47a3-8808-8c237077bf2a",
     "regions": {
      "0fd4be06-0134-45f3-8a95-c92e3463e730": {
       "attrs": {
        "height": 0.8,
        "width": 0.8,
        "x": 0.1,
        "y": 0.1
       },
       "content": {
        "cell": "01dfa8ef-9fb8-4388-8545-1c848696a5dc",
        "part": "whole"
       },
       "id": "0fd4be06-0134-45f3-8a95-c92e3463e730"
      }
     }
    },
    "28d69f5e-98a2-46f5-99fa-e96ea4f1072c": {
     "id": "28d69f5e-98a2-46f5-99fa-e96ea4f1072c",
     "prev": "2cdc095c-7a5d-4ccc-82ff-1bb601f6d1fb",
     "regions": {
      "195d6771-77cb-4b46-8dfb-1fe5ac9b16b0": {
       "attrs": {
        "height": 0.8,
        "width": 0.8,
        "x": 0.1,
        "y": 0.1
       },
       "content": {
        "cell": "2316901b-0783-4805-b07e-7c0787f4560b",
        "part": "whole"
       },
       "id": "195d6771-77cb-4b46-8dfb-1fe5ac9b16b0"
      }
     }
    },
    "2cdc095c-7a5d-4ccc-82ff-1bb601f6d1fb": {
     "id": "2cdc095c-7a5d-4ccc-82ff-1bb601f6d1fb",
     "prev": "5de9fab9-f8bb-4b07-87be-01d40e185132",
     "regions": {
      "dfd8645b-c474-45ef-a4ad-1d9900ae5460": {
       "attrs": {
        "height": 0.8,
        "width": 0.8,
        "x": 0.1,
        "y": 0.1
       },
       "content": {
        "cell": "193b6c4f-8987-4a38-b725-ca5481a405ba",
        "part": "whole"
       },
       "id": "dfd8645b-c474-45ef-a4ad-1d9900ae5460"
      }
     }
    },
    "2fe3f176-c50f-48bc-a08d-4edc3bf76a67": {
     "id": "2fe3f176-c50f-48bc-a08d-4edc3bf76a67",
     "prev": "54e28eec-c6a4-47e9-9968-fc01024c5df0",
     "regions": {
      "64c4b528-9836-4c35-b615-2f25b5e22b35": {
       "attrs": {
        "height": 0.8,
        "width": 0.8,
        "x": 0.1,
        "y": 0.1
       },
       "content": {
        "cell": "2ecf28c3-d60b-45fd-bdd9-48d3bd262814",
        "part": "whole"
       },
       "id": "64c4b528-9836-4c35-b615-2f25b5e22b35"
      }
     }
    },
    "3031e5cf-8631-49ce-9d07-e30894bdbb0e": {
     "id": "3031e5cf-8631-49ce-9d07-e30894bdbb0e",
     "prev": "76756192-e381-4b7c-a8f6-f8d525c83b26",
     "regions": {
      "7b29db17-85b8-4199-b1ba-ae8f6bfbf054": {
       "attrs": {
        "height": 0.8,
        "width": 0.8,
        "x": 0.1,
        "y": 0.1
       },
       "content": {
        "cell": "791daadb-1bd9-420e-84af-7cc771933882",
        "part": "whole"
       },
       "id": "7b29db17-85b8-4199-b1ba-ae8f6bfbf054"
      }
     }
    },
    "32a1291f-8e45-40b6-8882-57fe10dddaf4": {
     "id": "32a1291f-8e45-40b6-8882-57fe10dddaf4",
     "prev": "6aed8bed-3267-43e6-864b-c268ad9734bb",
     "regions": {
      "f95d16ab-6dc4-46d6-9053-535f8b31ef0a": {
       "attrs": {
        "height": 0.8,
        "width": 0.8,
        "x": 0.1,
        "y": 0.1
       },
       "content": {
        "cell": "6481105e-29d5-4afa-a40d-2316a06da1af",
        "part": "whole"
       },
       "id": "f95d16ab-6dc4-46d6-9053-535f8b31ef0a"
      }
     }
    },
    "38686a7d-866c-48cd-81c5-a06344e7400a": {
     "id": "38686a7d-866c-48cd-81c5-a06344e7400a",
     "prev": "9522944a-e697-439b-8526-07835c43a8e3",
     "regions": {
      "8e76a4ad-7b7b-4c07-adcb-c91aca4e355c": {
       "attrs": {
        "height": 0.8,
        "width": 0.8,
        "x": 0.1,
        "y": 0.1
       },
       "content": {
        "cell": "a449c73f-337a-49a6-b2db-2a2ac5aa9f82",
        "part": "whole"
       },
       "id": "8e76a4ad-7b7b-4c07-adcb-c91aca4e355c"
      }
     }
    },
    "3b03c8bc-2728-40d6-9eb2-5ca60c92d9ba": {
     "id": "3b03c8bc-2728-40d6-9eb2-5ca60c92d9ba",
     "prev": "50720411-939f-47d6-97d2-3bed3fc3743d",
     "regions": {
      "0cc09bb3-b950-4a6f-bd44-d407f683544b": {
       "attrs": {
        "height": 0.8,
        "width": 0.8,
        "x": 0.1,
        "y": 0.1
       },
       "content": {
        "cell": "796571e7-d69a-406c-8296-be86036ae736",
        "part": "whole"
       },
       "id": "0cc09bb3-b950-4a6f-bd44-d407f683544b"
      }
     }
    },
    "3d5cfa7f-8fab-414b-aa88-3b3752cda75a": {
     "id": "3d5cfa7f-8fab-414b-aa88-3b3752cda75a",
     "prev": "e8ce4fd9-bd34-4e71-99be-533a11613e87",
     "regions": {
      "69b04677-e459-4619-a7b6-42a88ad5ad0b": {
       "attrs": {
        "height": 0.8,
        "width": 0.8,
        "x": 0.1,
        "y": 0.1
       },
       "content": {
        "cell": "234a65c2-d6b0-4748-8f43-15d9fd504bf5",
        "part": "whole"
       },
       "id": "69b04677-e459-4619-a7b6-42a88ad5ad0b"
      }
     }
    },
    "3e1b246a-b8ac-48a1-b890-0c9ce4aec97e": {
     "id": "3e1b246a-b8ac-48a1-b890-0c9ce4aec97e",
     "prev": "cf514bdd-bc6f-4396-94cb-7f59eb3dd907",
     "regions": {
      "0aaf712f-5f67-4ab5-999d-b1aba50d7d32": {
       "attrs": {
        "height": 0.8,
        "width": 0.8,
        "x": 0.1,
        "y": 0.1
       },
       "content": {
        "cell": "0d5e91b4-8bc1-41af-af7a-56eef4c119e8",
        "part": "whole"
       },
       "id": "0aaf712f-5f67-4ab5-999d-b1aba50d7d32"
      }
     }
    },
    "40b64fc1-b66e-4403-87c9-cea88ef90de2": {
     "id": "40b64fc1-b66e-4403-87c9-cea88ef90de2",
     "prev": "0acf9871-9c98-43cf-8d90-adb1d16874a3",
     "regions": {
      "c632623a-09c3-41f4-8083-5c747bba6c75": {
       "attrs": {
        "height": 0.8,
        "width": 0.8,
        "x": 0.1,
        "y": 0.1
       },
       "content": {
        "cell": "9f68d36c-d69f-4bf3-a367-4041dac8b91b",
        "part": "whole"
       },
       "id": "c632623a-09c3-41f4-8083-5c747bba6c75"
      }
     }
    },
    "42d851c7-c248-4d10-a07b-a9f771109175": {
     "id": "42d851c7-c248-4d10-a07b-a9f771109175",
     "prev": "3031e5cf-8631-49ce-9d07-e30894bdbb0e",
     "regions": {
      "a179ac7a-1848-408b-bbf6-dd51ee3b4778": {
       "attrs": {
        "height": 0.8,
        "width": 0.8,
        "x": 0.1,
        "y": 0.1
       },
       "content": {
        "cell": "b7c9f708-69fa-495b-bb12-d7f043978ef4",
        "part": "whole"
       },
       "id": "a179ac7a-1848-408b-bbf6-dd51ee3b4778"
      }
     }
    },
    "43583316-ad8f-4e4d-bf65-f26591bd82e0": {
     "id": "43583316-ad8f-4e4d-bf65-f26591bd82e0",
     "prev": "7edd3e3c-f614-42fe-ac2c-f3308876fc10",
     "regions": {
      "b77e5f25-9f6d-45d8-b86f-7414db14e82b": {
       "attrs": {
        "height": 0.8,
        "width": 0.8,
        "x": 0.1,
        "y": 0.1
       },
       "content": {
        "cell": "34bd71aa-4977-4e14-9f04-d1a2d132a964",
        "part": "whole"
       },
       "id": "b77e5f25-9f6d-45d8-b86f-7414db14e82b"
      }
     }
    },
    "467ce6f4-a84b-4c06-8a3f-51238647cc9b": {
     "id": "467ce6f4-a84b-4c06-8a3f-51238647cc9b",
     "prev": "ab143bd3-3a76-4bab-9901-fb7d0287febd",
     "regions": {
      "ac2bbbcf-43f3-49a9-ada5-2d11ee1e6418": {
       "attrs": {
        "height": 0.8,
        "width": 0.8,
        "x": 0.1,
        "y": 0.1
       },
       "content": {
        "cell": "fd076e5f-462e-4513-b64c-42128c6d8537",
        "part": "whole"
       },
       "id": "ac2bbbcf-43f3-49a9-ada5-2d11ee1e6418"
      }
     }
    },
    "46a1fe91-497d-4cd0-a331-682d3d3e73b4": {
     "id": "46a1fe91-497d-4cd0-a331-682d3d3e73b4",
     "prev": "4f7255fa-c977-4802-a4ce-9a62e54656dc",
     "regions": {
      "5a3a3f1d-f282-4863-b2dc-36351450b5b4": {
       "attrs": {
        "height": 0.8,
        "width": 0.8,
        "x": 0.1,
        "y": 0.1
       },
       "content": {
        "cell": "24eabc50-e08b-48d2-9a51-f07ed1608ddd",
        "part": "whole"
       },
       "id": "5a3a3f1d-f282-4863-b2dc-36351450b5b4"
      }
     }
    },
    "4f7255fa-c977-4802-a4ce-9a62e54656dc": {
     "id": "4f7255fa-c977-4802-a4ce-9a62e54656dc",
     "prev": "38686a7d-866c-48cd-81c5-a06344e7400a",
     "regions": {
      "f6d0d73b-d0fd-4472-95f1-e23a30874dad": {
       "attrs": {
        "height": 0.8,
        "width": 0.8,
        "x": 0.1,
        "y": 0.1
       },
       "content": {
        "cell": "5bdc956f-9ba0-4f03-a7e4-23e6d54e2e56",
        "part": "whole"
       },
       "id": "f6d0d73b-d0fd-4472-95f1-e23a30874dad"
      }
     }
    },
    "506138ee-07d9-404b-94ef-eb4f3c4f1a1d": {
     "id": "506138ee-07d9-404b-94ef-eb4f3c4f1a1d",
     "prev": "faea9a44-785c-4ac1-b2ca-bbbc79e25c8d",
     "regions": {
      "b8d9f188-c30a-4031-abbb-da36850dc791": {
       "attrs": {
        "height": 0.8,
        "width": 0.8,
        "x": 0.1,
        "y": 0.1
       },
       "content": {
        "cell": "36db8cac-3b0d-4c48-880a-ec4f50d51a66",
        "part": "whole"
       },
       "id": "b8d9f188-c30a-4031-abbb-da36850dc791"
      }
     }
    },
    "50720411-939f-47d6-97d2-3bed3fc3743d": {
     "id": "50720411-939f-47d6-97d2-3bed3fc3743d",
     "prev": "f3e8260d-a840-458b-883d-9de2d9238d33",
     "regions": {
      "e163f898-17c2-419f-b1c0-6cfa056c68b7": {
       "attrs": {
        "height": 0.8,
        "width": 0.8,
        "x": 0.1,
        "y": 0.1
       },
       "content": {
        "cell": "71215af9-958f-4d21-b249-898c5f196612",
        "part": "whole"
       },
       "id": "e163f898-17c2-419f-b1c0-6cfa056c68b7"
      }
     }
    },
    "54e28eec-c6a4-47e9-9968-fc01024c5df0": {
     "id": "54e28eec-c6a4-47e9-9968-fc01024c5df0",
     "prev": "c82c65ac-7459-4e4b-b89f-2181f8e8c9c8",
     "regions": {
      "fcf3b9cc-0d61-475d-8756-b647ae6ca07c": {
       "attrs": {
        "height": 0.8,
        "width": 0.8,
        "x": 0.1,
        "y": 0.1
       },
       "content": {
        "cell": "80147257-5055-41ff-9aa4-06aed06fd77d",
        "part": "whole"
       },
       "id": "fcf3b9cc-0d61-475d-8756-b647ae6ca07c"
      }
     }
    },
    "5b76878a-e353-47f8-a440-532abdb8ec17": {
     "id": "5b76878a-e353-47f8-a440-532abdb8ec17",
     "prev": "75c34308-17a9-44f5-a104-75fb4b2bd9fb",
     "regions": {
      "f6312017-dfd5-489f-b2e6-e845d07e7dae": {
       "attrs": {
        "height": 0.8,
        "width": 0.8,
        "x": 0.1,
        "y": 0.1
       },
       "content": {
        "cell": "ad1bbe92-97aa-46b6-87ca-db97f87ae056",
        "part": "whole"
       },
       "id": "f6312017-dfd5-489f-b2e6-e845d07e7dae"
      }
     }
    },
    "5de9fab9-f8bb-4b07-87be-01d40e185132": {
     "id": "5de9fab9-f8bb-4b07-87be-01d40e185132",
     "prev": "bbd39176-5dd1-4678-8c0e-07958422a8d2",
     "regions": {
      "df1dfe08-79dd-4c10-b3fc-607b7d957e7d": {
       "attrs": {
        "height": 0.8,
        "width": 0.8,
        "x": 0.1,
        "y": 0.1
       },
       "content": {
        "cell": "6115b71b-e9e1-4c35-b3fe-2b2f1f2ba063",
        "part": "whole"
       },
       "id": "df1dfe08-79dd-4c10-b3fc-607b7d957e7d"
      }
     }
    },
    "616ccb11-d1c4-47f1-a4a5-aa40a1978838": {
     "id": "616ccb11-d1c4-47f1-a4a5-aa40a1978838",
     "prev": "3e1b246a-b8ac-48a1-b890-0c9ce4aec97e",
     "regions": {
      "4194bdd9-a0c1-4d2b-ba05-eac53b67b012": {
       "attrs": {
        "height": 0.8,
        "width": 0.8,
        "x": 0.1,
        "y": 0.1
       },
       "content": {
        "cell": "17424559-6fba-43e0-82c6-032bcdbb3c37",
        "part": "whole"
       },
       "id": "4194bdd9-a0c1-4d2b-ba05-eac53b67b012"
      }
     }
    },
    "687f3915-479b-47a3-8808-8c237077bf2a": {
     "id": "687f3915-479b-47a3-8808-8c237077bf2a",
     "prev": "b1f16ed1-87c6-4d5a-b8d9-0534d42b32c9",
     "regions": {
      "f69adc5e-0def-478f-b79b-db85f8ff73c8": {
       "attrs": {
        "height": 0.8,
        "width": 0.8,
        "x": 0.1,
        "y": 0.1
       },
       "content": {
        "cell": "7171af06-b33b-4af7-926a-02eece7c1d62",
        "part": "whole"
       },
       "id": "f69adc5e-0def-478f-b79b-db85f8ff73c8"
      }
     }
    },
    "6aed8bed-3267-43e6-864b-c268ad9734bb": {
     "id": "6aed8bed-3267-43e6-864b-c268ad9734bb",
     "prev": "46a1fe91-497d-4cd0-a331-682d3d3e73b4",
     "regions": {
      "78c19561-0d88-48c5-86e2-163583e0c982": {
       "attrs": {
        "height": 0.8,
        "width": 0.8,
        "x": 0.1,
        "y": 0.1
       },
       "content": {
        "cell": "cd3f5d6b-1aa5-45dd-9e1d-719f979bcb7a",
        "part": "whole"
       },
       "id": "78c19561-0d88-48c5-86e2-163583e0c982"
      }
     }
    },
    "6e6ad5fd-1da5-46cb-b71f-26f1d153ed84": {
     "id": "6e6ad5fd-1da5-46cb-b71f-26f1d153ed84",
     "prev": "42d851c7-c248-4d10-a07b-a9f771109175",
     "regions": {
      "4c05bfb8-9605-4d31-8113-ef776a70bc2a": {
       "attrs": {
        "height": 0.8,
        "width": 0.8,
        "x": 0.1,
        "y": 0.1
       },
       "content": {
        "cell": "0ea42251-17a3-4d51-9b89-e6fc0ba31b33",
        "part": "whole"
       },
       "id": "4c05bfb8-9605-4d31-8113-ef776a70bc2a"
      }
     }
    },
    "6f73d891-9951-43b8-a6f0-b85693742f02": {
     "id": "6f73d891-9951-43b8-a6f0-b85693742f02",
     "prev": "7df91aae-2306-4c74-92b8-aca006effe85",
     "regions": {
      "d6227202-3a0b-45ec-8907-ed76b37d17dd": {
       "attrs": {
        "height": 0.8,
        "width": 0.8,
        "x": 0.1,
        "y": 0.1
       },
       "content": {
        "cell": "af576a50-2f9b-447f-be66-55028e8a9bb6",
        "part": "whole"
       },
       "id": "d6227202-3a0b-45ec-8907-ed76b37d17dd"
      }
     }
    },
    "720a8b58-2662-455c-b527-32d4d7d523de": {
     "id": "720a8b58-2662-455c-b527-32d4d7d523de",
     "prev": "badcf974-7f86-48d7-95bb-9415b841c878",
     "regions": {
      "fa5f6960-800d-4f86-85da-b6d1cc2e142f": {
       "attrs": {
        "height": 0.8,
        "width": 0.8,
        "x": 0.1,
        "y": 0.1
       },
       "content": {
        "cell": "b6b4ef74-3c54-4fa0-b6d5-ca916512ef69",
        "part": "whole"
       },
       "id": "fa5f6960-800d-4f86-85da-b6d1cc2e142f"
      }
     }
    },
    "73cdd1e9-67db-4f34-ba80-1480b7d6ed01": {
     "id": "73cdd1e9-67db-4f34-ba80-1480b7d6ed01",
     "prev": "3d5cfa7f-8fab-414b-aa88-3b3752cda75a",
     "regions": {
      "87c0102d-dd32-423c-9907-241d6112f01a": {
       "attrs": {
        "height": 0.8,
        "width": 0.8,
        "x": 0.1,
        "y": 0.1
       },
       "content": {
        "cell": "65b35509-aaf7-457f-b824-9037fcda28ec",
        "part": "whole"
       },
       "id": "87c0102d-dd32-423c-9907-241d6112f01a"
      }
     }
    },
    "75c34308-17a9-44f5-a104-75fb4b2bd9fb": {
     "id": "75c34308-17a9-44f5-a104-75fb4b2bd9fb",
     "prev": "3b03c8bc-2728-40d6-9eb2-5ca60c92d9ba",
     "regions": {
      "8b722170-b6d7-4fc2-9736-128926b80b66": {
       "attrs": {
        "height": 0.8,
        "width": 0.8,
        "x": 0.1,
        "y": 0.1
       },
       "content": {
        "cell": "412a0bd7-eb61-46a1-b2a2-cc1b00ac50f2",
        "part": "whole"
       },
       "id": "8b722170-b6d7-4fc2-9736-128926b80b66"
      }
     }
    },
    "76756192-e381-4b7c-a8f6-f8d525c83b26": {
     "id": "76756192-e381-4b7c-a8f6-f8d525c83b26",
     "prev": "af3db6ad-1ee5-48b8-9e3e-6ab52de736a4",
     "regions": {
      "85f1070d-3559-4906-be12-c549e8a2bc04": {
       "attrs": {
        "height": 0.8,
        "width": 0.8,
        "x": 0.1,
        "y": 0.1
       },
       "content": {
        "cell": "f737370c-3445-4b91-af6c-2c3c5ea2f17b",
        "part": "whole"
       },
       "id": "85f1070d-3559-4906-be12-c549e8a2bc04"
      }
     }
    },
    "7df91aae-2306-4c74-92b8-aca006effe85": {
     "id": "7df91aae-2306-4c74-92b8-aca006effe85",
     "prev": "d1d52177-d950-453d-a456-4e8e9f093ebc",
     "regions": {
      "51489a36-9f5b-4806-b311-65dd08779cd1": {
       "attrs": {
        "height": 0.8,
        "width": 0.8,
        "x": 0.1,
        "y": 0.1
       },
       "content": {
        "cell": "7486e4b7-c3c0-4edd-9ca3-9d7652f8edd9",
        "part": "whole"
       },
       "id": "51489a36-9f5b-4806-b311-65dd08779cd1"
      }
     }
    },
    "7edd3e3c-f614-42fe-ac2c-f3308876fc10": {
     "id": "7edd3e3c-f614-42fe-ac2c-f3308876fc10",
     "prev": "8ccea881-f0db-491f-9a1a-a151c9ab3e87",
     "regions": {
      "c174bf68-212c-4e1c-b9be-ad71b7db845d": {
       "attrs": {
        "height": 0.8,
        "width": 0.8,
        "x": 0.1,
        "y": 0.1
       },
       "content": {
        "cell": "ec5fbb55-9386-4fd4-8cf6-053c4ac32c58",
        "part": "whole"
       },
       "id": "c174bf68-212c-4e1c-b9be-ad71b7db845d"
      }
     }
    },
    "8ccea881-f0db-491f-9a1a-a151c9ab3e87": {
     "id": "8ccea881-f0db-491f-9a1a-a151c9ab3e87",
     "prev": "467ce6f4-a84b-4c06-8a3f-51238647cc9b",
     "regions": {
      "8890b922-9d42-424a-ace1-039f9c0c857f": {
       "attrs": {
        "height": 0.8,
        "width": 0.8,
        "x": 0.1,
        "y": 0.1
       },
       "content": {
        "cell": "f112a343-1b7c-4b18-bdd6-cb720867f82e",
        "part": "whole"
       },
       "id": "8890b922-9d42-424a-ace1-039f9c0c857f"
      }
     }
    },
    "90d8e607-1e7a-4068-93c8-c4b6712543df": {
     "id": "90d8e607-1e7a-4068-93c8-c4b6712543df",
     "prev": "072a6ab9-11ec-4a8e-a10e-f13fc8d56708",
     "regions": {
      "2c65bfa2-6869-4e6c-a0b1-48152f509e44": {
       "attrs": {
        "height": 0.8,
        "width": 0.8,
        "x": 0.1,
        "y": 0.1
       },
       "content": {
        "cell": "40d85126-4f13-4524-90b6-a64f255309af",
        "part": "whole"
       },
       "id": "2c65bfa2-6869-4e6c-a0b1-48152f509e44"
      }
     }
    },
    "9522944a-e697-439b-8526-07835c43a8e3": {
     "id": "9522944a-e697-439b-8526-07835c43a8e3",
     "prev": "0498d43e-5a46-432e-b29e-23b003e35963",
     "regions": {
      "9ec7613e-1399-4177-a5b7-b9c663fdacef": {
       "attrs": {
        "height": 0.8,
        "width": 0.8,
        "x": 0.1,
        "y": 0.1
       },
       "content": {
        "cell": "878aac57-7be8-478d-9a28-abdd118bfd1e",
        "part": "whole"
       },
       "id": "9ec7613e-1399-4177-a5b7-b9c663fdacef"
      }
     }
    },
    "ab143bd3-3a76-4bab-9901-fb7d0287febd": {
     "id": "ab143bd3-3a76-4bab-9901-fb7d0287febd",
     "prev": "dfc1dcd8-2d20-4941-9084-7790f76e8aca",
     "regions": {
      "6bcf4f03-c445-4225-935d-a46d584bee97": {
       "attrs": {
        "height": 0.8,
        "width": 0.8,
        "x": 0.1,
        "y": 0.1
       },
       "content": {
        "cell": "29695919-4ae9-4f64-aa02-86ba2237b825",
        "part": "whole"
       },
       "id": "6bcf4f03-c445-4225-935d-a46d584bee97"
      }
     }
    },
    "af3db6ad-1ee5-48b8-9e3e-6ab52de736a4": {
     "id": "af3db6ad-1ee5-48b8-9e3e-6ab52de736a4",
     "prev": "616ccb11-d1c4-47f1-a4a5-aa40a1978838",
     "regions": {
      "5f78b321-3be0-4f42-acfa-32815ed8b231": {
       "attrs": {
        "height": 0.8,
        "width": 0.8,
        "x": 0.1,
        "y": 0.1
       },
       "content": {
        "cell": "5bedbfb8-7041-4330-8aa8-dcac96e6f3c6",
        "part": "whole"
       },
       "id": "5f78b321-3be0-4f42-acfa-32815ed8b231"
      }
     }
    },
    "b1f16ed1-87c6-4d5a-b8d9-0534d42b32c9": {
     "id": "b1f16ed1-87c6-4d5a-b8d9-0534d42b32c9",
     "prev": "28d69f5e-98a2-46f5-99fa-e96ea4f1072c",
     "regions": {
      "715d2cc6-e9fd-4ff5-aa5d-8e66ad0ba39f": {
       "attrs": {
        "height": 0.8,
        "width": 0.8,
        "x": 0.1,
        "y": 0.1
       },
       "content": {
        "cell": "72de796a-bee5-49be-8229-bfac47eb63b1",
        "part": "whole"
       },
       "id": "715d2cc6-e9fd-4ff5-aa5d-8e66ad0ba39f"
      }
     }
    },
    "b985d0b6-dfd2-4d93-a0f0-a10b33438462": {
     "id": "b985d0b6-dfd2-4d93-a0f0-a10b33438462",
     "prev": "40b64fc1-b66e-4403-87c9-cea88ef90de2",
     "regions": {
      "3e9f4b52-6423-4fb7-929f-936b6fd61a7e": {
       "attrs": {
        "height": 0.8,
        "width": 0.8,
        "x": 0.1,
        "y": 0.1
       },
       "content": {
        "cell": "ec03c0c6-fe5e-4c53-b99e-06b20bf794b6",
        "part": "whole"
       },
       "id": "3e9f4b52-6423-4fb7-929f-936b6fd61a7e"
      }
     }
    },
    "badcf974-7f86-48d7-95bb-9415b841c878": {
     "id": "badcf974-7f86-48d7-95bb-9415b841c878",
     "prev": "43583316-ad8f-4e4d-bf65-f26591bd82e0",
     "regions": {
      "588a87ac-c2c2-48f1-b97c-2b5e80e11af1": {
       "attrs": {
        "height": 0.8,
        "width": 0.8,
        "x": 0.1,
        "y": 0.1
       },
       "content": {
        "cell": "74d2e562-68b7-4e49-a060-a7b681154547",
        "part": "whole"
       },
       "id": "588a87ac-c2c2-48f1-b97c-2b5e80e11af1"
      }
     }
    },
    "bbd39176-5dd1-4678-8c0e-07958422a8d2": {
     "id": "bbd39176-5dd1-4678-8c0e-07958422a8d2",
     "prev": "2fe3f176-c50f-48bc-a08d-4edc3bf76a67",
     "regions": {
      "7968a3c8-3906-4b55-9806-1ff6de0bff00": {
       "attrs": {
        "height": 0.8,
        "width": 0.8,
        "x": 0.1,
        "y": 0.1
       },
       "content": {
        "cell": "20b4045e-6912-4e5a-a92c-1d3fa298d293",
        "part": "whole"
       },
       "id": "7968a3c8-3906-4b55-9806-1ff6de0bff00"
      }
     }
    },
    "c82c65ac-7459-4e4b-b89f-2181f8e8c9c8": {
     "id": "c82c65ac-7459-4e4b-b89f-2181f8e8c9c8",
     "prev": "b985d0b6-dfd2-4d93-a0f0-a10b33438462",
     "regions": {
      "dfba7dc7-2d48-4a42-8bb8-0c387be5b11e": {
       "attrs": {
        "height": 0.8,
        "width": 0.8,
        "x": 0.1,
        "y": 0.1
       },
       "content": {
        "cell": "403eb404-055c-4360-bdfb-d6fdcd8b264c",
        "part": "whole"
       },
       "id": "dfba7dc7-2d48-4a42-8bb8-0c387be5b11e"
      }
     }
    },
    "c8b59386-f284-48a8-9cde-c3a1d23d1d99": {
     "id": "c8b59386-f284-48a8-9cde-c3a1d23d1d99",
     "prev": "5b76878a-e353-47f8-a440-532abdb8ec17",
     "regions": {
      "f346ba62-8a28-40f7-9bd2-8d69b9c6ec7d": {
       "attrs": {
        "height": 0.8,
        "width": 0.8,
        "x": 0.1,
        "y": 0.1
       },
       "content": {
        "cell": "3515535d-98c9-4c68-9b4e-ff39625fb289",
        "part": "whole"
       },
       "id": "f346ba62-8a28-40f7-9bd2-8d69b9c6ec7d"
      }
     }
    },
    "cf514bdd-bc6f-4396-94cb-7f59eb3dd907": {
     "id": "cf514bdd-bc6f-4396-94cb-7f59eb3dd907",
     "prev": "506138ee-07d9-404b-94ef-eb4f3c4f1a1d",
     "regions": {
      "d3bb6a1b-5143-4a4e-9c04-b8b061cee942": {
       "attrs": {
        "height": 0.8,
        "width": 0.8,
        "x": 0.1,
        "y": 0.1
       },
       "content": {
        "cell": "a3a18302-d57c-40c9-af16-fe4f897fc5b8",
        "part": "whole"
       },
       "id": "d3bb6a1b-5143-4a4e-9c04-b8b061cee942"
      }
     }
    },
    "d1d52177-d950-453d-a456-4e8e9f093ebc": {
     "id": "d1d52177-d950-453d-a456-4e8e9f093ebc",
     "prev": "32a1291f-8e45-40b6-8882-57fe10dddaf4",
     "regions": {
      "ae19c551-d925-4a07-9c6a-2b20fcaa708e": {
       "attrs": {
        "height": 0.8,
        "width": 0.8,
        "x": 0.1,
        "y": 0.1
       },
       "content": {
        "cell": "d7155c98-4e64-45fc-9da9-80fba27a408b",
        "part": "whole"
       },
       "id": "ae19c551-d925-4a07-9c6a-2b20fcaa708e"
      }
     }
    },
    "dfc1dcd8-2d20-4941-9084-7790f76e8aca": {
     "id": "dfc1dcd8-2d20-4941-9084-7790f76e8aca",
     "prev": null,
     "regions": {
      "ab4c2bfd-28cc-4c96-a5cb-3308f383615e": {
       "attrs": {
        "height": 0.8,
        "width": 0.8,
        "x": 0.1,
        "y": 0.1
       },
       "content": {
        "cell": "fe44ba19-15a6-4096-9ea5-073148fe3997",
        "part": "whole"
       },
       "id": "ab4c2bfd-28cc-4c96-a5cb-3308f383615e"
      }
     }
    },
    "e8ce4fd9-bd34-4e71-99be-533a11613e87": {
     "id": "e8ce4fd9-bd34-4e71-99be-533a11613e87",
     "prev": "f63d115a-3252-4e10-87be-0b8e31316f3c",
     "regions": {
      "e24bd35c-6428-4b9e-af21-158e0e303a0f": {
       "attrs": {
        "height": 0.8,
        "width": 0.8,
        "x": 0.1,
        "y": 0.1
       },
       "content": {
        "cell": "c581b24a-933a-46aa-8552-acdc5b21c3b3",
        "part": "whole"
       },
       "id": "e24bd35c-6428-4b9e-af21-158e0e303a0f"
      }
     }
    },
    "f3e8260d-a840-458b-883d-9de2d9238d33": {
     "id": "f3e8260d-a840-458b-883d-9de2d9238d33",
     "prev": "720a8b58-2662-455c-b527-32d4d7d523de",
     "regions": {
      "509e453b-0965-465b-bad4-cf6598f7d453": {
       "attrs": {
        "height": 0.8,
        "width": 0.8,
        "x": 0.1,
        "y": 0.1
       },
       "content": {
        "cell": "09319188-8b3b-4e0a-b2e6-d242180b0bc0",
        "part": "whole"
       },
       "id": "509e453b-0965-465b-bad4-cf6598f7d453"
      }
     }
    },
    "f5a7ec4a-29e9-4731-a6fa-eb4d976f2f8e": {
     "id": "f5a7ec4a-29e9-4731-a6fa-eb4d976f2f8e",
     "prev": "90d8e607-1e7a-4068-93c8-c4b6712543df",
     "regions": {
      "7cbd5f5b-d50c-4a04-a2e1-f4073ecb4226": {
       "attrs": {
        "height": 0.8,
        "width": 0.8,
        "x": 0.1,
        "y": 0.1
       },
       "content": {
        "cell": "2a0c32fb-7632-4106-9e1e-0109e19d0498",
        "part": "whole"
       },
       "id": "7cbd5f5b-d50c-4a04-a2e1-f4073ecb4226"
      }
     }
    },
    "f63d115a-3252-4e10-87be-0b8e31316f3c": {
     "id": "f63d115a-3252-4e10-87be-0b8e31316f3c",
     "prev": "f5a7ec4a-29e9-4731-a6fa-eb4d976f2f8e",
     "regions": {
      "f15623c7-8234-4790-8e08-f1a8cbde6c8b": {
       "attrs": {
        "height": 0.8,
        "width": 0.8,
        "x": 0.1,
        "y": 0.1
       },
       "content": {
        "cell": "392ee53a-b230-46e1-978b-5fa87675475a",
        "part": "whole"
       },
       "id": "f15623c7-8234-4790-8e08-f1a8cbde6c8b"
      }
     }
    },
    "faea9a44-785c-4ac1-b2ca-bbbc79e25c8d": {
     "id": "faea9a44-785c-4ac1-b2ca-bbbc79e25c8d",
     "prev": "16ee2721-a082-4011-97a1-7df999e3d88f",
     "regions": {
      "66b6bc5d-b5a0-4ee1-bfa7-2225a236174d": {
       "attrs": {
        "height": 0.8,
        "width": 0.8,
        "x": 0.1,
        "y": 0.1
       },
       "content": {
        "cell": "b5f473e4-ed0d-4db3-98fb-ed3bb26d357b",
        "part": "whole"
       },
       "id": "66b6bc5d-b5a0-4ee1-bfa7-2225a236174d"
      }
     }
    }
   },
   "themes": {}
  }
 },
 "nbformat": 4,
 "nbformat_minor": 0
}
