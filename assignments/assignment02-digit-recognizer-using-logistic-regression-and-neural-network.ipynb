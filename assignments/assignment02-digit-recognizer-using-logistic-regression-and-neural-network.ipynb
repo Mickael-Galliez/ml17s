{
 "cells": [
  {
   "cell_type": "markdown",
   "metadata": {
    "slideshow": {
     "slide_type": "slide"
    }
   },
   "source": [
    "# CSAL4243: Introduction to Machine Learning\n",
    "Muhammad Mudassir Khan (mudasssir.khan@ucp.edu.pk)"
   ]
  },
  {
   "cell_type": "markdown",
   "metadata": {
    "slideshow": {
     "slide_type": "slide"
    }
   },
   "source": [
    "# Assignment 2: \n",
    "## Digits Recognition using Logistic Regression & Neural Networks\n",
    "\n",
    "In this assignment you are going to use Logistic Regression and Neural Networks. You are going to use digits dataset from [digits recognition competition](https://www.kaggle.com/c/digit-recognizer) on kaggle. First task is to train a logistic regression model from [scikit learn](scikit-learn.org) on the training dataset and then predict the labels of the given test dataset and submit it to kaggle. Then you are going to play around with the regularization parameter of logistic regression and see if it has any effect on your results. Later you are going to use neural networks from scikit learn and train it on the same dataset and use the trained model to predict the labels of the test dataset and submit the results to kaggle. You will need to report the results of neural networks as well. Lastly you will create some handwritten digits using a drawing software like MS paint or even write it on a paper and take a picture of it and see how good your trained model works on it. \n",
    "\n",
    "### Note: \n",
    "The given images are grey scale and has digits written in white, make sure your generated digits are of the same format."
   ]
  },
  {
   "cell_type": "markdown",
   "metadata": {
    "slideshow": {
     "slide_type": "fragment"
    }
   },
   "source": [
    "### Overview"
   ]
  },
  {
   "cell_type": "markdown",
   "metadata": {
    "collapsed": true,
    "slideshow": {
     "slide_type": "fragment"
    }
   },
   "source": [
    "- [Digit Recognizer Dataset](#Digit-Recognizer-Dataset)\n",
    "- [Tasks](#Tasks)\n",
    "- [Resources](#Resources)\n",
    "- [Credits](#Credits)"
   ]
  },
  {
   "cell_type": "markdown",
   "metadata": {},
   "source": [
    "<br>\n",
    "<br>"
   ]
  },
  {
   "cell_type": "markdown",
   "metadata": {},
   "source": [
    "# Digit Recognizer Dataset\n",
    "\n",
    "\n",
    "The dataset you are going to use in this assignment is called [Digit Recognizer](https://www.kaggle.com/c/digit-recognizer), available at kaggle. To download the dataset go to dataset data tab. Download 'train.csv', 'test.csv' and 'sample_submission.csv.gz' files. 'train.csv' is going to be used for training the model. 'test.csv' is used to test the model i.e. generalization. 'sample_submission.csv.gz' contain sample submission file that you need to generate to be submitted to kaggle.\n",
    "\n",
    "### Note: \n",
    "Thare are some [tutorials](https://www.kaggle.com/c/digit-recognizer#tutorial) available at the dataset tutorial section which you can use as a starting point. Specially the [A beginner’s approach to classification](https://www.kaggle.com/archaeocharlie/digit-recognizer/a-beginner-s-approach-to-classification) which uses scikit learn's SVM classifier. You can replace it with logistic regression and neural network. You can download the notebook by clicking fork notebook first and then download button.\n",
    "\n",
    "<br>"
   ]
  },
  {
   "cell_type": "markdown",
   "metadata": {
    "slideshow": {
     "slide_type": "slide"
    }
   },
   "source": [
    "# Tasks\n",
    "\n",
    "1. Use [scikit learn logistic regression](http://scikit-learn.org/stable/modules/generated/sklearn.linear_model.LogisticRegression.html) to train on digit recognizer dataset from kaggle competition. Submit your best result to the competition and report result.\n",
    "2. Use different values of regularization parameter (parameter C which is inverse of regularization parameter i.e. C = $\\frac{1}{\\lambda}$) in logistic regression and report the effect.\n",
    "3. Use [scikit learn neural network](http://scikit-learn.org/stable/modules/generated/sklearn.neural_network.MLPClassifier.html#sklearn.neural_network.MLPClassifier) to train on digit recognizer dataset and subimit your best result.\n",
    "4. Hand draw digits using any drawing software with black background and white font and test it on the trained model above and report results.\n",
    "\n",
    "### Note: \n",
    "1. If your system takes too much time on training then reduce training data. Around 5000 examples are enough to get a good classifier.\n",
    "2. It is a good idea to convert images to binary values i.e. 0's and 1's. \n",
    "3. Since dataset include images of $28\\times 28$ dimensions, you should use [opencv3](http://opencv.org/) libaray for image resize if needed in task 4. You can download it as anaconda package using command 'conda install --channel https://conda.anaconda.org/menpo opencv3'."
   ]
  },
  {
   "cell_type": "markdown",
   "metadata": {},
   "source": [
    "### Image resize using opencv"
   ]
  },
  {
   "cell_type": "code",
   "execution_count": null,
   "metadata": {
    "collapsed": true
   },
   "outputs": [],
   "source": [
    "import cv2\n",
    "img = cv2.imread('test.png',0)\n",
    "resized_image = cv2.resize(img, (28, 28), interpolation = cv2.INTER_AREA) "
   ]
  },
  {
   "cell_type": "markdown",
   "metadata": {},
   "source": [
    "### convert grey scale image to binary\n",
    "covert every non zero value to one."
   ]
  },
  {
   "cell_type": "code",
   "execution_count": null,
   "metadata": {
    "collapsed": true
   },
   "outputs": [],
   "source": [
    "test_images[test_images>0]=1\n",
    "train_images[train_images>0]=1"
   ]
  },
  {
   "cell_type": "markdown",
   "metadata": {
    "slideshow": {
     "slide_type": "slide"
    }
   },
   "source": [
    "# Resources\n",
    "\n",
    "Course website: [https://w4zir.github.io/ml17s/](https://w4zir.github.io/ml17s/)\n",
    "\n",
    "[Course resources](https://github.com/w4zir/ml17s)"
   ]
  },
  {
   "cell_type": "markdown",
   "metadata": {
    "slideshow": {
     "slide_type": "fragment"
    }
   },
   "source": [
    "# Credits\n",
    "Raschka, Sebastian. Python machine learning. Birmingham, UK: Packt Publishing, 2015. Print.\n",
    "\n",
    "[Andrew Ng, Machine Learning, Coursera](#https://www.coursera.org/learn/machine-learning)\n",
    "\n",
    "[Scikit Learn Linear Regression](http://scikit-learn.org/stable/modules/generated/sklearn.linear_model.LinearRegression.html)"
   ]
  }
 ],
 "metadata": {
  "anaconda-cloud": {},
  "kernelspec": {
   "display_name": "Python 3",
   "language": "python",
   "name": "python3"
  },
  "language_info": {
   "codemirror_mode": {
    "name": "ipython",
    "version": 3
   },
   "file_extension": ".py",
   "mimetype": "text/x-python",
   "name": "python",
   "nbconvert_exporter": "python",
   "pygments_lexer": "ipython3",
   "version": "3.6.0"
  }
 },
 "nbformat": 4,
 "nbformat_minor": 0
}
